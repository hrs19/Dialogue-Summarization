{
 "cells": [
  {
   "cell_type": "code",
   "execution_count": 1,
   "id": "fb6c2181-84c4-4240-b160-680ae8909f82",
   "metadata": {},
   "outputs": [
    {
     "name": "stdout",
     "output_type": "stream",
     "text": [
      "\n",
      "===================================BUG REPORT===================================\n",
      "Welcome to bitsandbytes. For bug reports, please run\n",
      "\n",
      "python -m bitsandbytes\n",
      "\n",
      " and submit this information together with your error trace to: https://github.com/TimDettmers/bitsandbytes/issues\n",
      "================================================================================\n",
      "CUDA SETUP: CUDA runtime path found: /shared/centos7/cuda/12.1/lib64/libcudart.so\n",
      "CUDA SETUP: Highest compute capability among GPUs detected: 6.0\n",
      "CUDA SETUP: Detected CUDA version 121\n",
      "CUDA SETUP: Loading binary /home/sampgaon.h/.local/lib/python3.8/site-packages/bitsandbytes/libbitsandbytes_cuda121_nocublaslt.so...\n"
     ]
    },
    {
     "name": "stderr",
     "output_type": "stream",
     "text": [
      "/home/sampgaon.h/.local/lib/python3.8/site-packages/bitsandbytes/cuda_setup/main.py:147: UserWarning: WARNING: Compute capability < 7.5 detected! Only slow 8-bit matmul is supported for your GPU!\n",
      "  warn(msg)\n"
     ]
    }
   ],
   "source": [
    "import torch\n",
    "from transformers import Trainer, TrainingArguments\n",
    "from transformers import BartForConditionalGeneration, BartTokenizer\n",
    "from transformers import AutoModelForSeq2SeqLM, AutoTokenizer\n",
    "import os\n",
    "from datasets import load_dataset,load_metric\n",
    "# from evaluate import load_metric\n",
    "from sklearn.model_selection import train_test_split\n",
    "from peft import LoraConfig, get_peft_model, prepare_model_for_int8_training, TaskType\n",
    "\n",
    "# device = 'cuda:0'\n",
    "device = torch.device('cuda' if torch.cuda.is_available() else 'cpu')\n",
    "import emoji\n",
    "emoji_list = emoji.EMOJI_DATA.keys()\n",
    "emoji_descriptions = [emoji.demojize(e, delimiters=(\"<\", \">\")) for e in emoji_list]"
   ]
  },
  {
   "cell_type": "markdown",
   "id": "7e385c24-176e-4339-852f-5a6825d506d3",
   "metadata": {},
   "source": [
    "### Loading the base models from Huggingface\n"
   ]
  },
  {
   "cell_type": "code",
   "execution_count": 2,
   "id": "5114a916-34cc-4803-8e31-143a53b76f68",
   "metadata": {},
   "outputs": [
    {
     "data": {
      "text/plain": [
       "Embedding(35888, 768)"
      ]
     },
     "execution_count": 2,
     "metadata": {},
     "output_type": "execute_result"
    }
   ],
   "source": [
    "load_16_bit = True\n",
    "\n",
    "model_name = \"google/flan-t5-base\"\n",
    "if load_16_bit:\n",
    "    model = AutoModelForSeq2SeqLM.from_pretrained(model_name,torch_dtype=torch.float16).to(device)\n",
    "else:\n",
    "    model = AutoModelForSeq2SeqLM.from_pretrained(model_name).to(device)\n",
    "tokenizer = AutoTokenizer.from_pretrained(model_name)"
   ]
  },
  {
   "cell_type": "markdown",
   "id": "37e59de9-7640-424b-8a66-6cc61daac8d7",
   "metadata": {},
   "source": [
    "### Updating Tokenizer and model embeddings\n"
   ]
  },
  {
   "cell_type": "code",
   "execution_count": null,
   "id": "2fa01e2b-16e0-4d69-92f3-51a0bf8c6083",
   "metadata": {},
   "outputs": [],
   "source": [
    "new_tokens = ['<file_photo>','<file_picture>','<file_other>','<file_video>','<file_image>','<file_gif>']\n",
    "new_tokens = new_tokens+emoji_descriptions\n",
    "tokenizer.add_special_tokens({'additional_special_tokens': new_tokens})\n",
    "model.resize_token_embeddings(len(tokenizer))"
   ]
  },
  {
   "cell_type": "markdown",
   "id": "87def406-e236-429d-8dc9-97619625c215",
   "metadata": {},
   "source": [
    "### Loading SAMSum Data"
   ]
  },
  {
   "cell_type": "code",
   "execution_count": 3,
   "id": "fdd58cf1-50f2-4805-b573-919e6b7a25d6",
   "metadata": {},
   "outputs": [],
   "source": [
    "# Load the Samsum dataset\n",
    "dataset = load_dataset(\"samsum\")\n",
    "\n",
    "train_data = dataset[\"train\"]\n",
    "validation_data = dataset[\"validation\"] \n",
    "test_data = dataset[\"test\"]"
   ]
  },
  {
   "cell_type": "markdown",
   "id": "d743256f-0709-4f83-a860-c09fc38739ca",
   "metadata": {},
   "source": [
    "### Tokenizing Function"
   ]
  },
  {
   "cell_type": "code",
   "execution_count": 4,
   "id": "166dc74d-ca09-4c69-bbc8-c7a2b55e20dc",
   "metadata": {},
   "outputs": [],
   "source": [
    "# Tokenzing\n",
    "def tokenize_function(tokenizer,examples):\n",
    "    input_dialogues = [\"Summarize dialogue >>\\n \" + emoji.demojize(dialogue, delimiters=(\"<\", \">\")) for dialogue in examples[\"dialogue\"]]\n",
    "    inputs = tokenizer(input_dialogues, padding=\"max_length\", truncation=True, max_length=1000)\n",
    "    targets = tokenizer(examples[\"summary\"], padding=\"max_length\", truncation=True, max_length=100)\n",
    "    return {\"input_ids\": inputs[\"input_ids\"], \"attention_mask\": inputs[\"attention_mask\"], \"labels\": targets[\"input_ids\"]}\n"
   ]
  },
  {
   "cell_type": "code",
   "execution_count": 5,
   "id": "4498f9b6-92d6-414f-95c5-15762f8c1c84",
   "metadata": {},
   "outputs": [],
   "source": [
    "train_data_tokenized = train_data.map(lambda examples: tokenize_function(tokenizer, examples), batched=True)\n",
    "validation_data_tokenized = validation_data.map(lambda examples: tokenize_function(tokenizer, examples), batched=True)\n",
    "test_data_tokenized = test_data.map(lambda examples: tokenize_function(tokenizer, examples), batched=True)\n"
   ]
  },
  {
   "cell_type": "markdown",
   "id": "48503c47-14aa-4a52-9338-89e4280e91a2",
   "metadata": {},
   "source": [
    "### Sample summarization code"
   ]
  },
  {
   "cell_type": "code",
   "execution_count": 6,
   "id": "70208a93-11e8-4dbc-869f-d8c538fa5d5d",
   "metadata": {},
   "outputs": [],
   "source": [
    "def summarize(tokenizer,model,text):\n",
    "    print(f\"Summarize dialogue >>\\n {emoji.demojize(text, delimiters=('<', '>'))}\")\n",
    "    inputs = tokenizer(f\"Summarize dialogue >>\\n {emoji.demojize(text, delimiters=('<', '>'))}\", return_tensors=\"pt\", max_length=1000, truncation=True, padding=\"max_length\").to(device)\n",
    "    \n",
    "    # Generate summary\n",
    "    summary_ids = model.generate(inputs.input_ids, num_beams=4, max_length=100, early_stopping=True)\n",
    "    # Decode the summary\n",
    "    summary = [tokenizer.decode(g, skip_special_tokens=True, clean_up_tokenization_spaces=False) for g in summary_ids]\n",
    "    \n",
    "    return summary[0]\n"
   ]
  },
  {
   "cell_type": "markdown",
   "id": "3fc1d5d1-d156-4685-bf50-69e275979b3f",
   "metadata": {},
   "source": [
    "### Model - FLAN-T5"
   ]
  },
  {
   "cell_type": "code",
   "execution_count": 7,
   "id": "9d08b7e7-c462-481d-858b-092985787a94",
   "metadata": {},
   "outputs": [
    {
     "name": "stdout",
     "output_type": "stream",
     "text": [
      "Trainable parameters: 253353216\n"
     ]
    }
   ],
   "source": [
    "# for name, param in bart_base_model.named_parameters():\n",
    "#     if param.requires_grad:\n",
    "#         print(name)\n",
    "trainable_params = sum(p.numel() for p in model.parameters() if p.requires_grad)\n",
    "print(\"Trainable parameters:\", trainable_params)        \n",
    "#247577856/142329600"
   ]
  },
  {
   "cell_type": "markdown",
   "id": "f64bb148-65e1-409d-8b21-833b7f3d3625",
   "metadata": {},
   "source": [
    "### LoRA config for FLAN T5, target modules on self and cross attention layers"
   ]
  },
  {
   "cell_type": "code",
   "execution_count": 9,
   "id": "61748186-d405-4bdc-a4e6-05da0b527fad",
   "metadata": {},
   "outputs": [
    {
     "name": "stdout",
     "output_type": "stream",
     "text": [
      "trainable params: 2654208 || all params: 256007424 || trainable%: 1.0367699336719236\n"
     ]
    }
   ],
   "source": [
    "lora_config = LoraConfig(\n",
    " r=16, #16\n",
    " lora_alpha=32,\n",
    " target_modules=[\"q\",\"v\",\"SelfAttention.k\",\"EncDecAttention.k\"],\n",
    " lora_dropout=0.05,\n",
    " bias=\"lora_only\",\n",
    " task_type=TaskType.SEQ_2_SEQ_LM\n",
    ")\n",
    "\n",
    "\n",
    "lora_model = get_peft_model(model, lora_config)\n",
    "# lora_model.print_trainable_parameters()\n",
    "lora_model.print_trainable_parameters()"
   ]
  },
  {
   "cell_type": "code",
   "execution_count": 10,
   "id": "232b04d5-8e19-4a1d-a844-a76fb608bed2",
   "metadata": {},
   "outputs": [
    {
     "name": "stderr",
     "output_type": "stream",
     "text": [
      "<ipython-input-10-ab20365055ea>:21: FutureWarning: load_metric is deprecated and will be removed in the next major version of datasets. Use 'evaluate.load' instead, from the new library 🤗 Evaluate: https://huggingface.co/docs/evaluate\n",
      "  rouge_metric = load_metric(\"rouge\")\n",
      "/home/sampgaon.h/.local/lib/python3.8/site-packages/datasets/load.py:756: FutureWarning: The repository for rouge contains custom code which must be executed to correctly load the metric. You can inspect the repository content at https://raw.githubusercontent.com/huggingface/datasets/2.18.0/metrics/rouge/rouge.py\n",
      "You can avoid this message in future by passing the argument `trust_remote_code=True`.\n",
      "Passing `trust_remote_code=True` will be mandatory to load this metric from the next major release of `datasets`.\n",
      "  warnings.warn(\n"
     ]
    }
   ],
   "source": [
    "# for name, param in model.named_parameters():\n",
    "#     if param.requires_grad:\n",
    "#         print(name)\n",
    "output_dir = \"./flan_t5_base_lora_finetune\"\n",
    "training_args = TrainingArguments(\n",
    "    overwrite_output_dir = False,\n",
    "    output_dir=output_dir,\n",
    "    per_device_train_batch_size=4,\n",
    "#     per_device_train_batch_size=8,\n",
    "    \n",
    "#     per_device_eval_batch_size=4,\n",
    "#     evaluation_strategy=\"epoch\",\n",
    "    logging_dir=f\"{output_dir}/logs\",\n",
    "    logging_steps=500,\n",
    "    save_strategy=\"epoch\",\n",
    "    save_total_limit=3,\n",
    "    num_train_epochs=10,\n",
    "    learning_rate=1e-4,\n",
    ")\n",
    "\n",
    "rouge_metric = load_metric(\"rouge\")\n",
    "trainer = Trainer( \n",
    "    model=lora_model,\n",
    "    args=training_args,\n",
    "    train_dataset=train_data_tokenized\n",
    ")"
   ]
  },
  {
   "cell_type": "code",
   "execution_count": 11,
   "id": "b7057337-2840-4833-8c9a-96b3c65139e1",
   "metadata": {},
   "outputs": [
    {
     "name": "stderr",
     "output_type": "stream",
     "text": [
      "/home/sampgaon.h/.local/lib/python3.8/site-packages/transformers/optimization.py:391: FutureWarning: This implementation of AdamW is deprecated and will be removed in a future version. Use the PyTorch implementation torch.optim.AdamW instead, or set `no_deprecation_warning=True` to disable this warning\n",
      "  warnings.warn(\n"
     ]
    },
    {
     "data": {
      "text/html": [
       "\n",
       "    <div>\n",
       "      \n",
       "      <progress value='36830' max='36830' style='width:300px; height:20px; vertical-align: middle;'></progress>\n",
       "      [36830/36830 3:44:10, Epoch 10/10]\n",
       "    </div>\n",
       "    <table border=\"1\" class=\"dataframe\">\n",
       "  <thead>\n",
       " <tr style=\"text-align: left;\">\n",
       "      <th>Step</th>\n",
       "      <th>Training Loss</th>\n",
       "    </tr>\n",
       "  </thead>\n",
       "  <tbody>\n",
       "    <tr>\n",
       "      <td>18500</td>\n",
       "      <td>0.522400</td>\n",
       "    </tr>\n",
       "    <tr>\n",
       "      <td>19000</td>\n",
       "      <td>0.518000</td>\n",
       "    </tr>\n",
       "    <tr>\n",
       "      <td>19500</td>\n",
       "      <td>0.528600</td>\n",
       "    </tr>\n",
       "    <tr>\n",
       "      <td>20000</td>\n",
       "      <td>0.525900</td>\n",
       "    </tr>\n",
       "    <tr>\n",
       "      <td>20500</td>\n",
       "      <td>0.538800</td>\n",
       "    </tr>\n",
       "    <tr>\n",
       "      <td>21000</td>\n",
       "      <td>0.503900</td>\n",
       "    </tr>\n",
       "    <tr>\n",
       "      <td>21500</td>\n",
       "      <td>0.511500</td>\n",
       "    </tr>\n",
       "    <tr>\n",
       "      <td>22000</td>\n",
       "      <td>0.516000</td>\n",
       "    </tr>\n",
       "    <tr>\n",
       "      <td>22500</td>\n",
       "      <td>0.515500</td>\n",
       "    </tr>\n",
       "    <tr>\n",
       "      <td>23000</td>\n",
       "      <td>0.511300</td>\n",
       "    </tr>\n",
       "    <tr>\n",
       "      <td>23500</td>\n",
       "      <td>0.523400</td>\n",
       "    </tr>\n",
       "    <tr>\n",
       "      <td>24000</td>\n",
       "      <td>0.512300</td>\n",
       "    </tr>\n",
       "    <tr>\n",
       "      <td>24500</td>\n",
       "      <td>0.512600</td>\n",
       "    </tr>\n",
       "    <tr>\n",
       "      <td>25000</td>\n",
       "      <td>0.495500</td>\n",
       "    </tr>\n",
       "    <tr>\n",
       "      <td>25500</td>\n",
       "      <td>0.510100</td>\n",
       "    </tr>\n",
       "    <tr>\n",
       "      <td>26000</td>\n",
       "      <td>0.520200</td>\n",
       "    </tr>\n",
       "    <tr>\n",
       "      <td>26500</td>\n",
       "      <td>0.500100</td>\n",
       "    </tr>\n",
       "    <tr>\n",
       "      <td>27000</td>\n",
       "      <td>0.508900</td>\n",
       "    </tr>\n",
       "    <tr>\n",
       "      <td>27500</td>\n",
       "      <td>0.502500</td>\n",
       "    </tr>\n",
       "    <tr>\n",
       "      <td>28000</td>\n",
       "      <td>0.513500</td>\n",
       "    </tr>\n",
       "    <tr>\n",
       "      <td>28500</td>\n",
       "      <td>0.516100</td>\n",
       "    </tr>\n",
       "    <tr>\n",
       "      <td>29000</td>\n",
       "      <td>0.515900</td>\n",
       "    </tr>\n",
       "    <tr>\n",
       "      <td>29500</td>\n",
       "      <td>0.495200</td>\n",
       "    </tr>\n",
       "    <tr>\n",
       "      <td>30000</td>\n",
       "      <td>0.507100</td>\n",
       "    </tr>\n",
       "    <tr>\n",
       "      <td>30500</td>\n",
       "      <td>0.503800</td>\n",
       "    </tr>\n",
       "    <tr>\n",
       "      <td>31000</td>\n",
       "      <td>0.506800</td>\n",
       "    </tr>\n",
       "    <tr>\n",
       "      <td>31500</td>\n",
       "      <td>0.507500</td>\n",
       "    </tr>\n",
       "    <tr>\n",
       "      <td>32000</td>\n",
       "      <td>0.508100</td>\n",
       "    </tr>\n",
       "    <tr>\n",
       "      <td>32500</td>\n",
       "      <td>0.521100</td>\n",
       "    </tr>\n",
       "    <tr>\n",
       "      <td>33000</td>\n",
       "      <td>0.504900</td>\n",
       "    </tr>\n",
       "    <tr>\n",
       "      <td>33500</td>\n",
       "      <td>0.502100</td>\n",
       "    </tr>\n",
       "    <tr>\n",
       "      <td>34000</td>\n",
       "      <td>0.498300</td>\n",
       "    </tr>\n",
       "    <tr>\n",
       "      <td>34500</td>\n",
       "      <td>0.497500</td>\n",
       "    </tr>\n",
       "    <tr>\n",
       "      <td>35000</td>\n",
       "      <td>0.498100</td>\n",
       "    </tr>\n",
       "    <tr>\n",
       "      <td>35500</td>\n",
       "      <td>0.504100</td>\n",
       "    </tr>\n",
       "    <tr>\n",
       "      <td>36000</td>\n",
       "      <td>0.510000</td>\n",
       "    </tr>\n",
       "    <tr>\n",
       "      <td>36500</td>\n",
       "      <td>0.510700</td>\n",
       "    </tr>\n",
       "  </tbody>\n",
       "</table><p>"
      ],
      "text/plain": [
       "<IPython.core.display.HTML object>"
      ]
     },
     "metadata": {},
     "output_type": "display_data"
    },
    {
     "data": {
      "text/plain": [
       "TrainOutput(global_step=36830, training_loss=0.25522235225084, metrics={'train_runtime': 13452.4693, 'train_samples_per_second': 10.951, 'train_steps_per_second': 2.738, 'total_flos': 2.0192681447424e+17, 'train_loss': 0.25522235225084, 'epoch': 10.0})"
      ]
     },
     "execution_count": 11,
     "metadata": {},
     "output_type": "execute_result"
    }
   ],
   "source": [
    "trainer.train(resume_from_checkpoint = True)"
   ]
  },
  {
   "cell_type": "code",
   "execution_count": 12,
   "id": "9c49bf13-5da4-47e9-ab84-0396a24d4c69",
   "metadata": {},
   "outputs": [],
   "source": [
    "trainer.model.save_pretrained('./flan_t5_base_lora_finetune_emoji_save_adapter')\n"
   ]
  },
  {
   "cell_type": "code",
   "execution_count": 13,
   "id": "586e004e-35ee-472b-ad92-30c4edaa9832",
   "metadata": {},
   "outputs": [
    {
     "name": "stdout",
     "output_type": "stream",
     "text": [
      "ROUGE scores: {'eval_runtime': 0.0053, 'eval_samples_per_second': 0.0, 'eval_steps_per_second': 0.0}\n"
     ]
    }
   ],
   "source": [
    "trainer.save_model('./flan_t5_base_lora_finetune_finetune_emoji_save')\n",
    "tokenizer.save_pretrained('./tokenizer-emoji_t5')\n",
    "\n",
    "model_tok_save_directory = \"./flan_t5_base_lora_finetune_model_tokenizer\"\n",
    "model.save_pretrained(model_tok_save_directory)\n",
    "tokenizer.save_pretrained(model_tok_save_directory)\n",
    "\n",
    "\n",
    "eval_trainer = Trainer(\n",
    "    model=model,\n",
    "    eval_dataset=validation_data_tokenized,\n",
    "    compute_metrics=lambda pred: rouge_metric.compute(predictions=pred.predictions, references=pred.label_ids)\n",
    ")\n",
    "\n",
    "# Evaluate the model on the test set\n",
    "results = eval_trainer.evaluate(test_data)\n",
    "# results = trainer.evaluate(test_data)\n",
    "print(\"ROUGE scores:\", results)"
   ]
  },
  {
   "cell_type": "markdown",
   "id": "1dc80e55-8bb2-40e2-bd1d-3817e16bca5f",
   "metadata": {},
   "source": [
    "#### ROUGE SCORE"
   ]
  },
  {
   "cell_type": "code",
   "execution_count": 14,
   "id": "e5e1b6e7-7cc1-4622-8293-3db53f3e34ca",
   "metadata": {},
   "outputs": [],
   "source": [
    "# def summarize(tokenizer,model,text):\n",
    "#     inputs = tokenizer(f\"Summarize dialogue >>\\n {text}\", return_tensors=\"pt\", max_length=1000, truncation=True, padding=\"max_length\").to(device)\n",
    "\n",
    "#     # Generate summary\n",
    "#     summary_ids = model.generate(inputs.input_ids, num_beams=4, max_length=100, early_stopping=True)\n",
    "# #     print(len(summary_ids[0]))\n",
    "#     # Decode the summary\n",
    "#     summary = [tokenizer.decode(g, skip_special_tokens=True, clean_up_tokenization_spaces=False) for g in summary_ids]\n",
    "    \n",
    "#     return summary\n",
    "def summarize(tokenizer,model,text):\n",
    "#     print(f\"Summarize dialogue >>\\n {emoji.demojize(text, delimiters=('<', '>'))}\")\n",
    "    inputs = tokenizer(f\"Summarize dialogue >>\\n {emoji.demojize(text, delimiters=('<', '>'))}\", return_tensors=\"pt\", max_length=1000, truncation=True, padding=\"max_length\").to(device)\n",
    "    \n",
    "    # Generate summary\n",
    "    summary_ids = model.generate(input_ids=inputs.input_ids, num_beams=4, max_length=100, early_stopping=True)\n",
    "    # Decode the summary\n",
    "    summary = [tokenizer.decode(g, skip_special_tokens=True, clean_up_tokenization_spaces=False) for g in summary_ids]\n",
    "    \n",
    "    return summary\n",
    "\n",
    "\n",
    "generated_summaries = []\n",
    "actual_summaries = []\n",
    "generated_summary_orignal = []\n",
    "dialogue_list = []\n",
    "# SAVED_MODEL_PATH = './flan_t5_base_lora_finetune_finetune_model_tokenizer'\n",
    "SAVED_TOK_PATH = 'tokenizer-emoji_t5'\n",
    "SAVED_MODEL_TOK = AutoTokenizer.from_pretrained(SAVED_TOK_PATH)#.to(device)\n",
    "# SAVED_MODEL = BartForConditionalGeneration.from_pretrained(SAVED_MODEL_PATH).to(device)\n",
    "from peft import PeftModel, PeftConfig\n",
    "# Load peft config for pre-trained checkpoint etc.\n",
    "peft_model_id = \"./flan_t5_base_lora_finetune_emoji_save_adapter\"\n",
    "config = PeftConfig.from_pretrained(peft_model_id)#.to(device)\n",
    "combined_model = AutoModelForSeq2SeqLM.from_pretrained(config.base_model_name_or_path).to(device)\n",
    "combined_tokenizer = AutoTokenizer.from_pretrained(config.base_model_name_or_path)\n",
    "combined_model = PeftModel.from_pretrained(combined_model, peft_model_id).to(device)\n",
    "combined_model.resize_token_embeddings(len(SAVED_MODEL_TOK))\n",
    "\n",
    "\n",
    "# model_name = \"facebook/bart-large-cnn\"\n",
    "# orignal_model = AutoModelForSeq2SeqLM.from_pretrained(model_name).to(device)\n",
    "load_16_bit=True\n",
    "model_name = \"google/flan-t5-base\"\n",
    "if load_16_bit:\n",
    "    orignal_model = AutoModelForSeq2SeqLM.from_pretrained(model_name,torch_dtype=torch.float16).to(device)\n",
    "else:\n",
    "    orignal_model = AutoModelForSeq2SeqLM.from_pretrained(model_name).to(device)\n",
    "\n",
    "orignal_model_tok = AutoTokenizer.from_pretrained(model_name)\n"
   ]
  },
  {
   "cell_type": "code",
   "execution_count": null,
   "id": "d423c428-85f9-4db2-9c76-5f1aab209685",
   "metadata": {},
   "outputs": [],
   "source": [
    "combined_tokenizer"
   ]
  },
  {
   "cell_type": "code",
   "execution_count": 15,
   "id": "8314cf5e-5565-4f89-a81e-fa0628a5c21a",
   "metadata": {},
   "outputs": [
    {
     "name": "stdout",
     "output_type": "stream",
     "text": [
      "samples summarized:10\ttime:17.960561513900757\n",
      "samples summarized:20\ttime:38.24000096321106\n",
      "samples summarized:30\ttime:57.9053909778595\n",
      "samples summarized:40\ttime:73.06195616722107\n",
      "samples summarized:50\ttime:91.4104585647583\n",
      "samples summarized:60\ttime:106.27889966964722\n",
      "samples summarized:70\ttime:118.80991220474243\n",
      "samples summarized:80\ttime:135.4886450767517\n",
      "samples summarized:90\ttime:153.16648769378662\n",
      "samples summarized:100\ttime:170.85572266578674\n",
      "samples summarized:110\ttime:183.02719831466675\n",
      "samples summarized:120\ttime:202.11659622192383\n",
      "samples summarized:130\ttime:217.3009798526764\n",
      "samples summarized:140\ttime:237.12749218940735\n",
      "samples summarized:150\ttime:254.061181306839\n",
      "samples summarized:160\ttime:274.43682980537415\n",
      "samples summarized:170\ttime:290.65347170829773\n",
      "samples summarized:180\ttime:309.2243883609772\n",
      "samples summarized:190\ttime:328.2917890548706\n",
      "samples summarized:200\ttime:348.1879472732544\n",
      "samples summarized:210\ttime:369.6892349720001\n",
      "samples summarized:220\ttime:389.81045961380005\n",
      "samples summarized:230\ttime:409.7822241783142\n",
      "samples summarized:240\ttime:425.8286154270172\n",
      "samples summarized:250\ttime:443.4214129447937\n",
      "samples summarized:260\ttime:461.7187786102295\n",
      "samples summarized:270\ttime:479.24632024765015\n",
      "samples summarized:280\ttime:494.27190232276917\n",
      "samples summarized:290\ttime:514.2807791233063\n",
      "samples summarized:300\ttime:534.4170758724213\n",
      "samples summarized:310\ttime:557.341322183609\n",
      "samples summarized:320\ttime:577.5790135860443\n",
      "samples summarized:330\ttime:592.2946579456329\n",
      "samples summarized:340\ttime:609.4760036468506\n",
      "samples summarized:350\ttime:625.859118938446\n",
      "samples summarized:360\ttime:645.7904968261719\n",
      "samples summarized:370\ttime:663.3543200492859\n",
      "samples summarized:380\ttime:684.7802686691284\n",
      "samples summarized:390\ttime:700.5419025421143\n",
      "samples summarized:400\ttime:719.4336359500885\n",
      "samples summarized:410\ttime:736.9904890060425\n",
      "samples summarized:420\ttime:754.3198087215424\n",
      "samples summarized:430\ttime:776.8431420326233\n",
      "samples summarized:440\ttime:802.025331735611\n",
      "samples summarized:450\ttime:822.0297238826752\n",
      "samples summarized:460\ttime:838.1034393310547\n",
      "samples summarized:470\ttime:855.6075751781464\n",
      "samples summarized:480\ttime:874.7099583148956\n",
      "samples summarized:490\ttime:888.4170327186584\n",
      "samples summarized:500\ttime:908.8833937644958\n",
      "samples summarized:510\ttime:928.9986627101898\n",
      "samples summarized:520\ttime:941.039383649826\n",
      "samples summarized:530\ttime:957.6327474117279\n",
      "samples summarized:540\ttime:973.5400912761688\n",
      "samples summarized:550\ttime:990.1056973934174\n",
      "samples summarized:560\ttime:1009.0305163860321\n",
      "samples summarized:570\ttime:1021.826103925705\n",
      "samples summarized:580\ttime:1037.3984291553497\n",
      "samples summarized:590\ttime:1057.5287539958954\n",
      "samples summarized:600\ttime:1076.238301038742\n",
      "samples summarized:610\ttime:1091.5442552566528\n",
      "samples summarized:620\ttime:1110.4569828510284\n",
      "samples summarized:630\ttime:1133.0331914424896\n",
      "samples summarized:640\ttime:1150.442718744278\n",
      "samples summarized:650\ttime:1171.2849893569946\n",
      "samples summarized:660\ttime:1190.4357149600983\n",
      "samples summarized:670\ttime:1206.6240906715393\n",
      "samples summarized:680\ttime:1226.4981970787048\n",
      "samples summarized:690\ttime:1244.288456439972\n",
      "samples summarized:700\ttime:1266.3152697086334\n",
      "samples summarized:710\ttime:1285.5332226753235\n",
      "samples summarized:720\ttime:1300.449988603592\n",
      "samples summarized:730\ttime:1319.412612915039\n",
      "samples summarized:740\ttime:1337.0839145183563\n",
      "samples summarized:750\ttime:1356.7040362358093\n",
      "samples summarized:760\ttime:1373.8430337905884\n",
      "samples summarized:770\ttime:1394.1443972587585\n",
      "samples summarized:780\ttime:1410.253738641739\n",
      "samples summarized:790\ttime:1428.3347568511963\n",
      "samples summarized:800\ttime:1444.1524937152863\n",
      "samples summarized:810\ttime:1459.0234632492065\n",
      "Total time taken: 1478.669503211975 seconds\n"
     ]
    }
   ],
   "source": [
    "import time\n",
    "start_time = time.time()\n",
    "i=1\n",
    "j=0\n",
    "for example in test_data:\n",
    "    if i%10==0:\n",
    "#         print()\n",
    "        j+=10\n",
    "        print(f\"samples summarized:{j}\\ttime:{time.time()-start_time}\")\n",
    "#         print(f\"\",)\n",
    "#     print(example['dialogue'])\n",
    "#     generated_summary = summarize(SAVED_MODEL_TOK,SAVED_MODEL,example['dialogue'])\n",
    "#     combined_model\n",
    "    generated_summary = summarize(SAVED_MODEL_TOK,combined_model,example['dialogue'])\n",
    "    \n",
    "    generated_summaries.append(generated_summary[0])\n",
    "    generated_summary_o = summarize(orignal_model_tok,orignal_model,example['dialogue'])\n",
    "    generated_summary_orignal.append(generated_summary_o[0])\n",
    "    actual_summaries.append(example[\"summary\"])\n",
    "    dialogue_list.append(example['dialogue'])\n",
    "    \n",
    "    i+=1\n",
    "    \n",
    "end_time = time.time()\n",
    "total_time = end_time - start_time\n",
    "print(f\"Total time taken: {total_time} seconds\")"
   ]
  },
  {
   "cell_type": "code",
   "execution_count": 16,
   "id": "c65b8b4d-5557-440a-a071-eac9d527ea89",
   "metadata": {},
   "outputs": [],
   "source": [
    "import pandas as pd\n",
    "\n",
    "\n",
    "temp_df = pd.DataFrame({'finetune_summary':generated_summaries,'original_summary':generated_summary_orignal,'human_summary':actual_summaries})\n",
    "temp_df.to_csv('results_10_epoch_lora_additional_tokenizer-kqv.csv')#.loc[3][0]"
   ]
  },
  {
   "cell_type": "code",
   "execution_count": 17,
   "id": "75f469ac-41c1-43a3-9aa4-d876e755b2c3",
   "metadata": {},
   "outputs": [
    {
     "name": "stdout",
     "output_type": "stream",
     "text": [
      "Colin: Hey I have some news that you would be really interested!(´･ω･`)\n",
      "Ava: What is it?\n",
      "Colin: How tall are you you said?\n",
      "Ava: 158...cm.. why?(-_-メ)\n",
      "Colin: Congratulations! You are defeated by penguin(☞ﾟヮﾟ)☞\n",
      "Ava: What are you talking about?\n",
      "Colin: Penguins' average  height is 162cm when they stand up （‐＾▽＾‐）オーホッホ\n",
      "Colin: So you are officially shorter than penguins☜(⌒▽⌒)☞\n"
     ]
    },
    {
     "data": {
      "text/plain": [
       "(\"Ava is 158 cm tall. Penguins' average height is 162 cm when they stand up.\",\n",
       " 'Ava is 158 cm tall. Penguins have an average height of 162 cm when they stand up.',\n",
       " 'Colin informs Ava that with her height of 158 cm she is shorter than an average penguin.',\n",
       " None)"
      ]
     },
     "execution_count": 17,
     "metadata": {},
     "output_type": "execute_result"
    }
   ],
   "source": [
    "i=-58\n",
    "#-11,-17,-19,-20,-25,-9,-32,-49\n",
    "generated_summaries[i],generated_summary_orignal[i],actual_summaries[i],print(dialogue_list[i])"
   ]
  },
  {
   "cell_type": "code",
   "execution_count": 18,
   "id": "5309c1ae-1332-44b0-ac8f-51cf875173d8",
   "metadata": {},
   "outputs": [
    {
     "name": "stdout",
     "output_type": "stream",
     "text": [
      "Total time taken: 0.6378993988037109 seconds\n",
      "Total time taken: 0.0005116462707519531 seconds\n",
      "Average ROUGE scores:\n",
      "rouge1: 0.49812536710527633\n",
      "rouge2: 0.25241980365961003\n",
      "rougeL: 0.41388172587554395\n"
     ]
    }
   ],
   "source": [
    "from rouge_score import rouge_scorer\n",
    "\n",
    "start_time = time.time()\n",
    "\n",
    "scorer = rouge_scorer.RougeScorer(['rouge1', 'rouge2', 'rougeL'], use_stemmer=True)\n",
    "scores = [scorer.score(actual_summary, gen_summary) for actual_summary, gen_summary in zip(actual_summaries, generated_summary_orignal)]\n",
    "end_time = time.time()\n",
    "total_time = end_time - start_time\n",
    "print(f\"Total time taken: {total_time} seconds\")\n",
    "\n",
    "start_time = time.time()\n",
    "\n",
    "# To calculate average scores\n",
    "average_scores = {}\n",
    "for key in scores[0].keys():\n",
    "    average_scores[key] = sum(score[key].fmeasure for score in scores) / len(scores)\n",
    "\n",
    "    \n",
    "end_time = time.time()\n",
    "total_time = end_time - start_time\n",
    "print(f\"Total time taken: {total_time} seconds\")    \n",
    "print(\"Average ROUGE scores:\")\n",
    "for key, value in average_scores.items():\n",
    "    print(f\"{key}: {value}\")\n"
   ]
  },
  {
   "cell_type": "code",
   "execution_count": 19,
   "id": "43b2416c-60db-4161-946a-48645e03d1d2",
   "metadata": {},
   "outputs": [
    {
     "name": "stdout",
     "output_type": "stream",
     "text": [
      "Total time taken: 0.6891534328460693 seconds\n",
      "Total time taken: 0.00047898292541503906 seconds\n",
      "Average ROUGE scores:\n",
      "rouge1: 0.5130892939915732\n",
      "rouge2: 0.26610476725256216\n",
      "rougeL: 0.4275032360927456\n"
     ]
    }
   ],
   "source": [
    "from rouge_score import rouge_scorer\n",
    "\n",
    "start_time = time.time()\n",
    "\n",
    "scorer = rouge_scorer.RougeScorer(['rouge1', 'rouge2', 'rougeL'], use_stemmer=True)\n",
    "scores = [scorer.score(actual_summary, gen_summary) for actual_summary, gen_summary in zip(actual_summaries, generated_summaries)]\n",
    "end_time = time.time()\n",
    "total_time = end_time - start_time\n",
    "print(f\"Total time taken: {total_time} seconds\")\n",
    "\n",
    "start_time = time.time()\n",
    "\n",
    "# To calculate average scores\n",
    "average_scores = {}\n",
    "for key in scores[0].keys():\n",
    "    average_scores[key] = sum(score[key].fmeasure for score in scores) / len(scores)\n",
    "\n",
    "    \n",
    "end_time = time.time()\n",
    "total_time = end_time - start_time\n",
    "print(f\"Total time taken: {total_time} seconds\")    \n",
    "print(\"Average ROUGE scores:\")\n",
    "for key, value in average_scores.items():\n",
    "    print(f\"{key}: {value}\")\n"
   ]
  }
 ],
 "metadata": {
  "kernelspec": {
   "display_name": "Python 3",
   "language": "python",
   "name": "python3"
  },
  "language_info": {
   "codemirror_mode": {
    "name": "ipython",
    "version": 3
   },
   "file_extension": ".py",
   "mimetype": "text/x-python",
   "name": "python",
   "nbconvert_exporter": "python",
   "pygments_lexer": "ipython3",
   "version": "3.8.8"
  }
 },
 "nbformat": 4,
 "nbformat_minor": 5
}
