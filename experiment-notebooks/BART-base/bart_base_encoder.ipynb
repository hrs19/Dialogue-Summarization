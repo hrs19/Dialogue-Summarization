{
 "cells": [
  {
   "cell_type": "code",
   "execution_count": 1,
   "id": "5ec1ae55-65e0-434a-9426-6816bbeaf1e6",
   "metadata": {},
   "outputs": [],
   "source": [
    "import torch\n",
    "from transformers import Trainer, TrainingArguments\n",
    "from transformers import BartForConditionalGeneration, BartTokenizer\n",
    "from transformers import AutoModelForSeq2SeqLM, AutoTokenizer\n",
    "import os\n",
    "from datasets import load_dataset,load_metric\n",
    "# from evaluate import load_metric\n",
    "from sklearn.model_selection import train_test_split\n",
    "\n",
    "device = 'cuda:0'\n",
    "import emoji\n",
    "emoji_list = emoji.EMOJI_DATA.keys()\n",
    "emoji_descriptions = [emoji.demojize(e, delimiters=(\"<\", \">\")) for e in emoji_list]"
   ]
  },
  {
   "cell_type": "markdown",
   "id": "6232c119-3d8c-4bb3-960a-dad39979a3ad",
   "metadata": {},
   "source": [
    "### Loading the base models from Huggingface\n"
   ]
  },
  {
   "cell_type": "code",
   "execution_count": null,
   "id": "a523adfb-dfe5-40e2-a64c-a11118bc12d2",
   "metadata": {},
   "outputs": [],
   "source": [
    "model_name = \"facebook/bart-base\"\n",
    "model = AutoModelForSeq2SeqLM.from_pretrained(model_name).to(device)\n"
   ]
  },
  {
   "cell_type": "code",
   "execution_count": null,
   "id": "95b33dc1-957b-4b8a-95a8-e413102ff398",
   "metadata": {},
   "outputs": [],
   "source": [
    "tokenizer = AutoTokenizer.from_pretrained(model_name)\n",
    "\n",
    "new_tokens = ['<file_photo>','<file_picture>','<file_other>','<file_video>','<file_image>','<file_gif>']\n",
    "new_tokens = new_tokens+emoji_descriptions\n",
    "tokenizer.add_special_tokens({'additional_special_tokens': new_tokens})\n",
    "model.resize_token_embeddings(len(tokenizer))"
   ]
  },
  {
   "cell_type": "markdown",
   "id": "d88e2f74-df57-4c53-ae83-6f2929785764",
   "metadata": {},
   "source": [
    "### Loading the SAMSum dataset"
   ]
  },
  {
   "cell_type": "code",
   "execution_count": 2,
   "id": "df3034e0-d3ca-40e8-bc42-7b34401dfae4",
   "metadata": {},
   "outputs": [],
   "source": [
    "dataset = load_dataset(\"samsum\")\n",
    "\n",
    "train_data = dataset[\"train\"]\n",
    "validation_data = dataset[\"validation\"] \n",
    "test_data = dataset[\"test\"]"
   ]
  },
  {
   "cell_type": "markdown",
   "id": "a13b76fe-4027-49bd-b5f4-29ffb86260e1",
   "metadata": {},
   "source": [
    "### Tokenizing Function"
   ]
  },
  {
   "cell_type": "code",
   "execution_count": 5,
   "id": "c01c1c29-d3cc-425f-992a-88bc35b541be",
   "metadata": {},
   "outputs": [],
   "source": [
    "def tokenize_function(tokenizer,examples):\n",
    "    input_dialogues = [\"Summarize dialogue >>\\n \" + emoji.demojize(dialogue, delimiters=(\"<\", \">\")) for dialogue in examples[\"dialogue\"]]\n",
    "    inputs = tokenizer(input_dialogues, padding=\"max_length\", truncation=True, max_length=1000)\n",
    "    targets = tokenizer(examples[\"summary\"], padding=\"max_length\", truncation=True, max_length=100)\n",
    "    return {\"input_ids\": inputs[\"input_ids\"], \"attention_mask\": inputs[\"attention_mask\"], \"labels\": targets[\"input_ids\"]}\n"
   ]
  },
  {
   "cell_type": "code",
   "execution_count": 6,
   "id": "0ff3728e-e330-4999-9b38-609f48a0b3fe",
   "metadata": {},
   "outputs": [],
   "source": [
    "train_data_tokenized = train_data.map(lambda examples: tokenize_function(tokenizer, examples), batched=True)\n",
    "validation_data_tokenized = validation_data.map(lambda examples: tokenize_function(tokenizer, examples), batched=True)\n",
    "test_data_tokenized = test_data.map(lambda examples: tokenize_function(tokenizer, examples), batched=True)"
   ]
  },
  {
   "cell_type": "markdown",
   "id": "6626ed70-79dc-40fe-985a-7599ebd05e6f",
   "metadata": {},
   "source": [
    "### Sample summarization code"
   ]
  },
  {
   "cell_type": "code",
   "execution_count": 7,
   "id": "c5d299df-4631-49e3-8872-5cbe391a07bb",
   "metadata": {},
   "outputs": [],
   "source": [
    "def summarize(tokenizer,model,text):\n",
    "    print(f\"Summarize dialogue >>\\n {emoji.demojize(text, delimiters=('<', '>'))}\")\n",
    "    inputs = tokenizer(f\"Summarize dialogue >>\\n {emoji.demojize(text, delimiters=('<', '>'))}\", return_tensors=\"pt\", max_length=1000, truncation=True, padding=\"max_length\").to(device)\n",
    "    \n",
    "    # Generate summary\n",
    "    summary_ids = model.generate(inputs.input_ids, num_beams=4, max_length=100, early_stopping=True)\n",
    "    # Decode the summary\n",
    "    summary = [tokenizer.decode(g, skip_special_tokens=True, clean_up_tokenization_spaces=False) for g in summary_ids]\n",
    "    \n",
    "    return summary[0]\n"
   ]
  },
  {
   "cell_type": "markdown",
   "id": "afab579e-5ec0-4a49-8f1d-723a6f1d8c3a",
   "metadata": {},
   "source": [
    "### Model - BART"
   ]
  },
  {
   "cell_type": "code",
   "execution_count": 8,
   "id": "316b8fae-3986-4b79-a479-c7f4ed1423fa",
   "metadata": {},
   "outputs": [
    {
     "name": "stdout",
     "output_type": "stream",
     "text": [
      "Trainable parameters: 142329600\n"
     ]
    }
   ],
   "source": [
    "trainable_params = sum(p.numel() for p in model.parameters() if p.requires_grad)\n",
    "print(\"Trainable parameters:\", trainable_params)        \n",
    "#247577856/142329600"
   ]
  },
  {
   "cell_type": "markdown",
   "id": "36dd11e8-55be-4101-853c-338d7bd78133",
   "metadata": {},
   "source": [
    "### Freezing all layers and keeping encoder weights as trainable"
   ]
  },
  {
   "cell_type": "code",
   "execution_count": 9,
   "id": "7572833a-f0a8-440c-9255-2a92b54c5a18",
   "metadata": {},
   "outputs": [
    {
     "name": "stdout",
     "output_type": "stream",
     "text": [
      "model.shared.weight is trainable\n",
      "model.encoder.embed_positions.weight is trainable\n",
      "model.encoder.layers.0.self_attn.k_proj.weight is trainable\n",
      "model.encoder.layers.0.self_attn.k_proj.bias is trainable\n",
      "model.encoder.layers.0.self_attn.v_proj.weight is trainable\n",
      "model.encoder.layers.0.self_attn.v_proj.bias is trainable\n",
      "model.encoder.layers.0.self_attn.q_proj.weight is trainable\n",
      "model.encoder.layers.0.self_attn.q_proj.bias is trainable\n",
      "model.encoder.layers.0.self_attn.out_proj.weight is trainable\n",
      "model.encoder.layers.0.self_attn.out_proj.bias is trainable\n",
      "model.encoder.layers.0.self_attn_layer_norm.weight is trainable\n",
      "model.encoder.layers.0.self_attn_layer_norm.bias is trainable\n",
      "model.encoder.layers.0.fc1.weight is trainable\n",
      "model.encoder.layers.0.fc1.bias is trainable\n",
      "model.encoder.layers.0.fc2.weight is trainable\n",
      "model.encoder.layers.0.fc2.bias is trainable\n",
      "model.encoder.layers.0.final_layer_norm.weight is trainable\n",
      "model.encoder.layers.0.final_layer_norm.bias is trainable\n",
      "model.encoder.layers.1.self_attn.k_proj.weight is trainable\n",
      "model.encoder.layers.1.self_attn.k_proj.bias is trainable\n",
      "model.encoder.layers.1.self_attn.v_proj.weight is trainable\n",
      "model.encoder.layers.1.self_attn.v_proj.bias is trainable\n",
      "model.encoder.layers.1.self_attn.q_proj.weight is trainable\n",
      "model.encoder.layers.1.self_attn.q_proj.bias is trainable\n",
      "model.encoder.layers.1.self_attn.out_proj.weight is trainable\n",
      "model.encoder.layers.1.self_attn.out_proj.bias is trainable\n",
      "model.encoder.layers.1.self_attn_layer_norm.weight is trainable\n",
      "model.encoder.layers.1.self_attn_layer_norm.bias is trainable\n",
      "model.encoder.layers.1.fc1.weight is trainable\n",
      "model.encoder.layers.1.fc1.bias is trainable\n",
      "model.encoder.layers.1.fc2.weight is trainable\n",
      "model.encoder.layers.1.fc2.bias is trainable\n",
      "model.encoder.layers.1.final_layer_norm.weight is trainable\n",
      "model.encoder.layers.1.final_layer_norm.bias is trainable\n",
      "model.encoder.layers.2.self_attn.k_proj.weight is trainable\n",
      "model.encoder.layers.2.self_attn.k_proj.bias is trainable\n",
      "model.encoder.layers.2.self_attn.v_proj.weight is trainable\n",
      "model.encoder.layers.2.self_attn.v_proj.bias is trainable\n",
      "model.encoder.layers.2.self_attn.q_proj.weight is trainable\n",
      "model.encoder.layers.2.self_attn.q_proj.bias is trainable\n",
      "model.encoder.layers.2.self_attn.out_proj.weight is trainable\n",
      "model.encoder.layers.2.self_attn.out_proj.bias is trainable\n",
      "model.encoder.layers.2.self_attn_layer_norm.weight is trainable\n",
      "model.encoder.layers.2.self_attn_layer_norm.bias is trainable\n",
      "model.encoder.layers.2.fc1.weight is trainable\n",
      "model.encoder.layers.2.fc1.bias is trainable\n",
      "model.encoder.layers.2.fc2.weight is trainable\n",
      "model.encoder.layers.2.fc2.bias is trainable\n",
      "model.encoder.layers.2.final_layer_norm.weight is trainable\n",
      "model.encoder.layers.2.final_layer_norm.bias is trainable\n",
      "model.encoder.layers.3.self_attn.k_proj.weight is trainable\n",
      "model.encoder.layers.3.self_attn.k_proj.bias is trainable\n",
      "model.encoder.layers.3.self_attn.v_proj.weight is trainable\n",
      "model.encoder.layers.3.self_attn.v_proj.bias is trainable\n",
      "model.encoder.layers.3.self_attn.q_proj.weight is trainable\n",
      "model.encoder.layers.3.self_attn.q_proj.bias is trainable\n",
      "model.encoder.layers.3.self_attn.out_proj.weight is trainable\n",
      "model.encoder.layers.3.self_attn.out_proj.bias is trainable\n",
      "model.encoder.layers.3.self_attn_layer_norm.weight is trainable\n",
      "model.encoder.layers.3.self_attn_layer_norm.bias is trainable\n",
      "model.encoder.layers.3.fc1.weight is trainable\n",
      "model.encoder.layers.3.fc1.bias is trainable\n",
      "model.encoder.layers.3.fc2.weight is trainable\n",
      "model.encoder.layers.3.fc2.bias is trainable\n",
      "model.encoder.layers.3.final_layer_norm.weight is trainable\n",
      "model.encoder.layers.3.final_layer_norm.bias is trainable\n",
      "model.encoder.layers.4.self_attn.k_proj.weight is trainable\n",
      "model.encoder.layers.4.self_attn.k_proj.bias is trainable\n",
      "model.encoder.layers.4.self_attn.v_proj.weight is trainable\n",
      "model.encoder.layers.4.self_attn.v_proj.bias is trainable\n",
      "model.encoder.layers.4.self_attn.q_proj.weight is trainable\n",
      "model.encoder.layers.4.self_attn.q_proj.bias is trainable\n",
      "model.encoder.layers.4.self_attn.out_proj.weight is trainable\n",
      "model.encoder.layers.4.self_attn.out_proj.bias is trainable\n",
      "model.encoder.layers.4.self_attn_layer_norm.weight is trainable\n",
      "model.encoder.layers.4.self_attn_layer_norm.bias is trainable\n",
      "model.encoder.layers.4.fc1.weight is trainable\n",
      "model.encoder.layers.4.fc1.bias is trainable\n",
      "model.encoder.layers.4.fc2.weight is trainable\n",
      "model.encoder.layers.4.fc2.bias is trainable\n",
      "model.encoder.layers.4.final_layer_norm.weight is trainable\n",
      "model.encoder.layers.4.final_layer_norm.bias is trainable\n",
      "model.encoder.layers.5.self_attn.k_proj.weight is trainable\n",
      "model.encoder.layers.5.self_attn.k_proj.bias is trainable\n",
      "model.encoder.layers.5.self_attn.v_proj.weight is trainable\n",
      "model.encoder.layers.5.self_attn.v_proj.bias is trainable\n",
      "model.encoder.layers.5.self_attn.q_proj.weight is trainable\n",
      "model.encoder.layers.5.self_attn.q_proj.bias is trainable\n",
      "model.encoder.layers.5.self_attn.out_proj.weight is trainable\n",
      "model.encoder.layers.5.self_attn.out_proj.bias is trainable\n",
      "model.encoder.layers.5.self_attn_layer_norm.weight is trainable\n",
      "model.encoder.layers.5.self_attn_layer_norm.bias is trainable\n",
      "model.encoder.layers.5.fc1.weight is trainable\n",
      "model.encoder.layers.5.fc1.bias is trainable\n",
      "model.encoder.layers.5.fc2.weight is trainable\n",
      "model.encoder.layers.5.fc2.bias is trainable\n",
      "model.encoder.layers.5.final_layer_norm.weight is trainable\n",
      "model.encoder.layers.5.final_layer_norm.bias is trainable\n",
      "model.encoder.layernorm_embedding.weight is trainable\n",
      "model.encoder.layernorm_embedding.bias is trainable\n",
      "model.decoder.embed_positions.weight is frozen\n",
      "model.decoder.layers.0.self_attn.k_proj.weight is frozen\n",
      "model.decoder.layers.0.self_attn.k_proj.bias is frozen\n",
      "model.decoder.layers.0.self_attn.v_proj.weight is frozen\n",
      "model.decoder.layers.0.self_attn.v_proj.bias is frozen\n",
      "model.decoder.layers.0.self_attn.q_proj.weight is frozen\n",
      "model.decoder.layers.0.self_attn.q_proj.bias is frozen\n",
      "model.decoder.layers.0.self_attn.out_proj.weight is frozen\n",
      "model.decoder.layers.0.self_attn.out_proj.bias is frozen\n",
      "model.decoder.layers.0.self_attn_layer_norm.weight is frozen\n",
      "model.decoder.layers.0.self_attn_layer_norm.bias is frozen\n",
      "model.decoder.layers.0.encoder_attn.k_proj.weight is frozen\n",
      "model.decoder.layers.0.encoder_attn.k_proj.bias is frozen\n",
      "model.decoder.layers.0.encoder_attn.v_proj.weight is frozen\n",
      "model.decoder.layers.0.encoder_attn.v_proj.bias is frozen\n",
      "model.decoder.layers.0.encoder_attn.q_proj.weight is frozen\n",
      "model.decoder.layers.0.encoder_attn.q_proj.bias is frozen\n",
      "model.decoder.layers.0.encoder_attn.out_proj.weight is frozen\n",
      "model.decoder.layers.0.encoder_attn.out_proj.bias is frozen\n",
      "model.decoder.layers.0.encoder_attn_layer_norm.weight is frozen\n",
      "model.decoder.layers.0.encoder_attn_layer_norm.bias is frozen\n",
      "model.decoder.layers.0.fc1.weight is frozen\n",
      "model.decoder.layers.0.fc1.bias is frozen\n",
      "model.decoder.layers.0.fc2.weight is frozen\n",
      "model.decoder.layers.0.fc2.bias is frozen\n",
      "model.decoder.layers.0.final_layer_norm.weight is frozen\n",
      "model.decoder.layers.0.final_layer_norm.bias is frozen\n",
      "model.decoder.layers.1.self_attn.k_proj.weight is frozen\n",
      "model.decoder.layers.1.self_attn.k_proj.bias is frozen\n",
      "model.decoder.layers.1.self_attn.v_proj.weight is frozen\n",
      "model.decoder.layers.1.self_attn.v_proj.bias is frozen\n",
      "model.decoder.layers.1.self_attn.q_proj.weight is frozen\n",
      "model.decoder.layers.1.self_attn.q_proj.bias is frozen\n",
      "model.decoder.layers.1.self_attn.out_proj.weight is frozen\n",
      "model.decoder.layers.1.self_attn.out_proj.bias is frozen\n",
      "model.decoder.layers.1.self_attn_layer_norm.weight is frozen\n",
      "model.decoder.layers.1.self_attn_layer_norm.bias is frozen\n",
      "model.decoder.layers.1.encoder_attn.k_proj.weight is frozen\n",
      "model.decoder.layers.1.encoder_attn.k_proj.bias is frozen\n",
      "model.decoder.layers.1.encoder_attn.v_proj.weight is frozen\n",
      "model.decoder.layers.1.encoder_attn.v_proj.bias is frozen\n",
      "model.decoder.layers.1.encoder_attn.q_proj.weight is frozen\n",
      "model.decoder.layers.1.encoder_attn.q_proj.bias is frozen\n",
      "model.decoder.layers.1.encoder_attn.out_proj.weight is frozen\n",
      "model.decoder.layers.1.encoder_attn.out_proj.bias is frozen\n",
      "model.decoder.layers.1.encoder_attn_layer_norm.weight is frozen\n",
      "model.decoder.layers.1.encoder_attn_layer_norm.bias is frozen\n",
      "model.decoder.layers.1.fc1.weight is frozen\n",
      "model.decoder.layers.1.fc1.bias is frozen\n",
      "model.decoder.layers.1.fc2.weight is frozen\n",
      "model.decoder.layers.1.fc2.bias is frozen\n",
      "model.decoder.layers.1.final_layer_norm.weight is frozen\n",
      "model.decoder.layers.1.final_layer_norm.bias is frozen\n",
      "model.decoder.layers.2.self_attn.k_proj.weight is frozen\n",
      "model.decoder.layers.2.self_attn.k_proj.bias is frozen\n",
      "model.decoder.layers.2.self_attn.v_proj.weight is frozen\n",
      "model.decoder.layers.2.self_attn.v_proj.bias is frozen\n",
      "model.decoder.layers.2.self_attn.q_proj.weight is frozen\n",
      "model.decoder.layers.2.self_attn.q_proj.bias is frozen\n",
      "model.decoder.layers.2.self_attn.out_proj.weight is frozen\n",
      "model.decoder.layers.2.self_attn.out_proj.bias is frozen\n",
      "model.decoder.layers.2.self_attn_layer_norm.weight is frozen\n",
      "model.decoder.layers.2.self_attn_layer_norm.bias is frozen\n",
      "model.decoder.layers.2.encoder_attn.k_proj.weight is frozen\n",
      "model.decoder.layers.2.encoder_attn.k_proj.bias is frozen\n",
      "model.decoder.layers.2.encoder_attn.v_proj.weight is frozen\n",
      "model.decoder.layers.2.encoder_attn.v_proj.bias is frozen\n",
      "model.decoder.layers.2.encoder_attn.q_proj.weight is frozen\n",
      "model.decoder.layers.2.encoder_attn.q_proj.bias is frozen\n",
      "model.decoder.layers.2.encoder_attn.out_proj.weight is frozen\n",
      "model.decoder.layers.2.encoder_attn.out_proj.bias is frozen\n",
      "model.decoder.layers.2.encoder_attn_layer_norm.weight is frozen\n",
      "model.decoder.layers.2.encoder_attn_layer_norm.bias is frozen\n",
      "model.decoder.layers.2.fc1.weight is frozen\n",
      "model.decoder.layers.2.fc1.bias is frozen\n",
      "model.decoder.layers.2.fc2.weight is frozen\n",
      "model.decoder.layers.2.fc2.bias is frozen\n",
      "model.decoder.layers.2.final_layer_norm.weight is frozen\n",
      "model.decoder.layers.2.final_layer_norm.bias is frozen\n",
      "model.decoder.layers.3.self_attn.k_proj.weight is frozen\n",
      "model.decoder.layers.3.self_attn.k_proj.bias is frozen\n",
      "model.decoder.layers.3.self_attn.v_proj.weight is frozen\n",
      "model.decoder.layers.3.self_attn.v_proj.bias is frozen\n",
      "model.decoder.layers.3.self_attn.q_proj.weight is frozen\n",
      "model.decoder.layers.3.self_attn.q_proj.bias is frozen\n",
      "model.decoder.layers.3.self_attn.out_proj.weight is frozen\n",
      "model.decoder.layers.3.self_attn.out_proj.bias is frozen\n",
      "model.decoder.layers.3.self_attn_layer_norm.weight is frozen\n",
      "model.decoder.layers.3.self_attn_layer_norm.bias is frozen\n",
      "model.decoder.layers.3.encoder_attn.k_proj.weight is frozen\n",
      "model.decoder.layers.3.encoder_attn.k_proj.bias is frozen\n",
      "model.decoder.layers.3.encoder_attn.v_proj.weight is frozen\n",
      "model.decoder.layers.3.encoder_attn.v_proj.bias is frozen\n",
      "model.decoder.layers.3.encoder_attn.q_proj.weight is frozen\n",
      "model.decoder.layers.3.encoder_attn.q_proj.bias is frozen\n",
      "model.decoder.layers.3.encoder_attn.out_proj.weight is frozen\n",
      "model.decoder.layers.3.encoder_attn.out_proj.bias is frozen\n",
      "model.decoder.layers.3.encoder_attn_layer_norm.weight is frozen\n",
      "model.decoder.layers.3.encoder_attn_layer_norm.bias is frozen\n",
      "model.decoder.layers.3.fc1.weight is frozen\n",
      "model.decoder.layers.3.fc1.bias is frozen\n",
      "model.decoder.layers.3.fc2.weight is frozen\n",
      "model.decoder.layers.3.fc2.bias is frozen\n",
      "model.decoder.layers.3.final_layer_norm.weight is frozen\n",
      "model.decoder.layers.3.final_layer_norm.bias is frozen\n",
      "model.decoder.layers.4.self_attn.k_proj.weight is frozen\n",
      "model.decoder.layers.4.self_attn.k_proj.bias is frozen\n",
      "model.decoder.layers.4.self_attn.v_proj.weight is frozen\n",
      "model.decoder.layers.4.self_attn.v_proj.bias is frozen\n",
      "model.decoder.layers.4.self_attn.q_proj.weight is frozen\n",
      "model.decoder.layers.4.self_attn.q_proj.bias is frozen\n",
      "model.decoder.layers.4.self_attn.out_proj.weight is frozen\n",
      "model.decoder.layers.4.self_attn.out_proj.bias is frozen\n",
      "model.decoder.layers.4.self_attn_layer_norm.weight is frozen\n",
      "model.decoder.layers.4.self_attn_layer_norm.bias is frozen\n",
      "model.decoder.layers.4.encoder_attn.k_proj.weight is frozen\n",
      "model.decoder.layers.4.encoder_attn.k_proj.bias is frozen\n",
      "model.decoder.layers.4.encoder_attn.v_proj.weight is frozen\n",
      "model.decoder.layers.4.encoder_attn.v_proj.bias is frozen\n",
      "model.decoder.layers.4.encoder_attn.q_proj.weight is frozen\n",
      "model.decoder.layers.4.encoder_attn.q_proj.bias is frozen\n",
      "model.decoder.layers.4.encoder_attn.out_proj.weight is frozen\n",
      "model.decoder.layers.4.encoder_attn.out_proj.bias is frozen\n",
      "model.decoder.layers.4.encoder_attn_layer_norm.weight is frozen\n",
      "model.decoder.layers.4.encoder_attn_layer_norm.bias is frozen\n",
      "model.decoder.layers.4.fc1.weight is frozen\n",
      "model.decoder.layers.4.fc1.bias is frozen\n",
      "model.decoder.layers.4.fc2.weight is frozen\n",
      "model.decoder.layers.4.fc2.bias is frozen\n",
      "model.decoder.layers.4.final_layer_norm.weight is frozen\n",
      "model.decoder.layers.4.final_layer_norm.bias is frozen\n",
      "model.decoder.layers.5.self_attn.k_proj.weight is frozen\n",
      "model.decoder.layers.5.self_attn.k_proj.bias is frozen\n",
      "model.decoder.layers.5.self_attn.v_proj.weight is frozen\n",
      "model.decoder.layers.5.self_attn.v_proj.bias is frozen\n",
      "model.decoder.layers.5.self_attn.q_proj.weight is frozen\n",
      "model.decoder.layers.5.self_attn.q_proj.bias is frozen\n",
      "model.decoder.layers.5.self_attn.out_proj.weight is frozen\n",
      "model.decoder.layers.5.self_attn.out_proj.bias is frozen\n",
      "model.decoder.layers.5.self_attn_layer_norm.weight is frozen\n",
      "model.decoder.layers.5.self_attn_layer_norm.bias is frozen\n",
      "model.decoder.layers.5.encoder_attn.k_proj.weight is frozen\n",
      "model.decoder.layers.5.encoder_attn.k_proj.bias is frozen\n",
      "model.decoder.layers.5.encoder_attn.v_proj.weight is frozen\n",
      "model.decoder.layers.5.encoder_attn.v_proj.bias is frozen\n",
      "model.decoder.layers.5.encoder_attn.q_proj.weight is frozen\n",
      "model.decoder.layers.5.encoder_attn.q_proj.bias is frozen\n",
      "model.decoder.layers.5.encoder_attn.out_proj.weight is frozen\n",
      "model.decoder.layers.5.encoder_attn.out_proj.bias is frozen\n",
      "model.decoder.layers.5.encoder_attn_layer_norm.weight is frozen\n",
      "model.decoder.layers.5.encoder_attn_layer_norm.bias is frozen\n",
      "model.decoder.layers.5.fc1.weight is frozen\n",
      "model.decoder.layers.5.fc1.bias is frozen\n",
      "model.decoder.layers.5.fc2.weight is frozen\n",
      "model.decoder.layers.5.fc2.bias is frozen\n",
      "model.decoder.layers.5.final_layer_norm.weight is frozen\n",
      "model.decoder.layers.5.final_layer_norm.bias is frozen\n",
      "model.decoder.layernorm_embedding.weight is frozen\n",
      "model.decoder.layernorm_embedding.bias is frozen\n"
     ]
    }
   ],
   "source": [
    "# Freeze all parameters first\n",
    "for param in model.parameters():\n",
    "    param.requires_grad = False\n",
    "\n",
    "# Unfreeze encoder layers\n",
    "for param in model.model.encoder.parameters():\n",
    "    param.requires_grad = True\n",
    "\n",
    "# Check trainable parameters \n",
    "for name, param in model.named_parameters():\n",
    "    print(f\"{name} is {'trainable' if param.requires_grad else 'frozen'}\")\n"
   ]
  },
  {
   "cell_type": "markdown",
   "id": "ccd41784-e885-45f3-a849-6fe169c05cff",
   "metadata": {},
   "source": [
    "#### Training"
   ]
  },
  {
   "cell_type": "code",
   "execution_count": 10,
   "id": "968e408c-a94b-4815-a90f-cf2827dfa8f2",
   "metadata": {},
   "outputs": [],
   "source": [
    "output_dir = \"./bart_base_encoder_finetune_emoji\"\n"
   ]
  },
  {
   "cell_type": "code",
   "execution_count": 11,
   "id": "337b964e-7a1a-4a5c-ab1a-b17a73198196",
   "metadata": {},
   "outputs": [
    {
     "name": "stderr",
     "output_type": "stream",
     "text": [
      "<ipython-input-11-5ff3adaaf92c>:16: FutureWarning: load_metric is deprecated and will be removed in the next major version of datasets. Use 'evaluate.load' instead, from the new library 🤗 Evaluate: https://huggingface.co/docs/evaluate\n",
      "  rouge_metric = load_metric(\"rouge\")\n",
      "/home/sampgaon.h/.local/lib/python3.8/site-packages/datasets/load.py:756: FutureWarning: The repository for rouge contains custom code which must be executed to correctly load the metric. You can inspect the repository content at https://raw.githubusercontent.com/huggingface/datasets/2.18.0/metrics/rouge/rouge.py\n",
      "You can avoid this message in future by passing the argument `trust_remote_code=True`.\n",
      "Passing `trust_remote_code=True` will be mandatory to load this metric from the next major release of `datasets`.\n",
      "  warnings.warn(\n"
     ]
    }
   ],
   "source": [
    "training_args = TrainingArguments(\n",
    "    overwrite_output_dir = False,\n",
    "    output_dir=output_dir,\n",
    "    per_device_train_batch_size=4,\n",
    "    per_device_eval_batch_size=4,\n",
    "#     evaluation_strategy=\"steps\",\n",
    "    logging_dir=f\"{output_dir}/logs\",\n",
    "    logging_steps=500,\n",
    "    save_strategy=\"epoch\",\n",
    "    save_total_limit=3,\n",
    "    num_train_epochs=10,\n",
    "    learning_rate=1e-4,\n",
    ")\n",
    "\n",
    "rouge_metric = load_metric(\"rouge\")\n",
    "\n",
    "trainer = Trainer(\n",
    "    model=model,\n",
    "    args=training_args,\n",
    "    train_dataset=train_data_tokenized,\n",
    "    eval_dataset=validation_data_tokenized,\n",
    "    compute_metrics=lambda pred: rouge_metric.compute(predictions=pred.predictions, references=pred.label_ids)\n",
    ")\n"
   ]
  },
  {
   "cell_type": "code",
   "execution_count": 12,
   "id": "47025577-9e39-49f0-993e-9f1df1af03ee",
   "metadata": {},
   "outputs": [
    {
     "name": "stderr",
     "output_type": "stream",
     "text": [
      "/home/sampgaon.h/.local/lib/python3.8/site-packages/transformers/optimization.py:391: FutureWarning: This implementation of AdamW is deprecated and will be removed in a future version. Use the PyTorch implementation torch.optim.AdamW instead, or set `no_deprecation_warning=True` to disable this warning\n",
      "  warnings.warn(\n"
     ]
    },
    {
     "data": {
      "text/html": [
       "\n",
       "    <div>\n",
       "      \n",
       "      <progress value='36830' max='36830' style='width:300px; height:20px; vertical-align: middle;'></progress>\n",
       "      [36830/36830 22:19, Epoch 10/10]\n",
       "    </div>\n",
       "    <table border=\"1\" class=\"dataframe\">\n",
       "  <thead>\n",
       " <tr style=\"text-align: left;\">\n",
       "      <th>Step</th>\n",
       "      <th>Training Loss</th>\n",
       "    </tr>\n",
       "  </thead>\n",
       "  <tbody>\n",
       "    <tr>\n",
       "      <td>33500</td>\n",
       "      <td>0.209600</td>\n",
       "    </tr>\n",
       "    <tr>\n",
       "      <td>34000</td>\n",
       "      <td>0.203600</td>\n",
       "    </tr>\n",
       "    <tr>\n",
       "      <td>34500</td>\n",
       "      <td>0.201100</td>\n",
       "    </tr>\n",
       "    <tr>\n",
       "      <td>35000</td>\n",
       "      <td>0.204300</td>\n",
       "    </tr>\n",
       "    <tr>\n",
       "      <td>35500</td>\n",
       "      <td>0.202100</td>\n",
       "    </tr>\n",
       "    <tr>\n",
       "      <td>36000</td>\n",
       "      <td>0.209300</td>\n",
       "    </tr>\n",
       "    <tr>\n",
       "      <td>36500</td>\n",
       "      <td>0.209300</td>\n",
       "    </tr>\n",
       "  </tbody>\n",
       "</table><p>"
      ],
      "text/plain": [
       "<IPython.core.display.HTML object>"
      ]
     },
     "metadata": {},
     "output_type": "display_data"
    },
    {
     "data": {
      "text/plain": [
       "TrainOutput(global_step=36830, training_loss=0.020547674481000647, metrics={'train_runtime': 1340.8394, 'train_samples_per_second': 109.871, 'train_steps_per_second': 27.468, 'total_flos': 8.77210693632e+16, 'train_loss': 0.020547674481000647, 'epoch': 10.0})"
      ]
     },
     "execution_count": 12,
     "metadata": {},
     "output_type": "execute_result"
    }
   ],
   "source": [
    "trainer.train(resume_from_checkpoint = True)"
   ]
  },
  {
   "cell_type": "code",
   "execution_count": null,
   "id": "00744cd3-300f-43f9-97dd-96d4219329c2",
   "metadata": {},
   "outputs": [],
   "source": [
    "trainer.save_model('./bart_base_encoder_finetune_emoji_save')\n",
    "\n",
    "model_tok_save_directory = \"./bart_base_encoder_finetune_model_tokenizer\"\n",
    "model.save_pretrained(model_tok_save_directory)\n",
    "tokenizer.save_pretrained(model_tok_save_directory)\n",
    "\n",
    "tokenizer.save_pretrained('./tokenizer-emoji')\n",
    "\n",
    "\n",
    "eval_trainer = Trainer(\n",
    "    model=model,\n",
    "    eval_dataset=validation_data_tokenized,\n",
    "    compute_metrics=lambda pred: rouge_metric.compute(predictions=pred.predictions, references=pred.label_ids)\n",
    ")\n",
    "\n",
    "# Evaluate the model on the test set\n",
    "results = eval_trainer.evaluate(test_data)\n",
    "print(\"ROUGE scores:\", results)"
   ]
  },
  {
   "cell_type": "code",
   "execution_count": 15,
   "id": "f2db433c-7b24-4df0-84fb-6677cc28b215",
   "metadata": {},
   "outputs": [],
   "source": [
    "model_name = \"facebook/bart-base\"\n",
    "orignal_model = AutoModelForSeq2SeqLM.from_pretrained(model_name).to(device)\n",
    "orignal_model_tok = AutoTokenizer.from_pretrained(model_name)\n"
   ]
  },
  {
   "cell_type": "markdown",
   "id": "202c952b-73cc-4b17-a31a-22b73700ffdb",
   "metadata": {},
   "source": [
    "### ROUGE SCORE -- inference\n"
   ]
  },
  {
   "cell_type": "code",
   "execution_count": 3,
   "id": "5f70bd67-b15e-4f6b-8fe7-1c224e95d19c",
   "metadata": {},
   "outputs": [
    {
     "name": "stderr",
     "output_type": "stream",
     "text": [
      "Some weights of BartForConditionalGeneration were not initialized from the model checkpoint at facebook/bart-large-cnn and are newly initialized: ['model.shared.weight']\n",
      "You should probably TRAIN this model on a down-stream task to be able to use it for predictions and inference.\n"
     ]
    }
   ],
   "source": [
    "def summarize(tokenizer,model,text):\n",
    "    \"\"\"\n",
    "    Summarizes the given text using the provided tokenizer and model.\n",
    "\n",
    "    Args:\n",
    "        tokenizer (Tokenizer): The tokenizer used to tokenize the input text.\n",
    "        model (Model): The model used for summarization.\n",
    "        text (str): The text to be summarized.\n",
    "\n",
    "    Returns:\n",
    "        list: A list containing the summarized text.    \n",
    "    \"\"\"    \n",
    "#     print(f\"Summarize dialogue >>\\n {emoji.demojize(text, delimiters=('<', '>'))}\")\n",
    "    inputs = tokenizer(f\"Summarize dialogue >>\\n {emoji.demojize(text, delimiters=('<', '>'))}\", return_tensors=\"pt\", max_length=1000, truncation=True, padding=\"max_length\").to(device)\n",
    "    \n",
    "    # Generate summary\n",
    "    summary_ids = model.generate(inputs.input_ids, num_beams=4, max_length=100, early_stopping=True)\n",
    "    # Decode the summary\n",
    "    summary = [tokenizer.decode(g, skip_special_tokens=True, clean_up_tokenization_spaces=False) for g in summary_ids]\n",
    "    \n",
    "    return summary\n",
    "\n",
    "\n",
    "generated_summaries = []\n",
    "actual_summaries = []\n",
    "generated_summary_orignal = []\n",
    "dialogue_list = []\n",
    "SAVED_MODEL_PATH = './bart_base_encoder_finetune_model_tokenizer'\n",
    "SAVED_TOK_PATH = 'tokenizer-emoji'\n",
    "SAVED_MODEL_TOK = BartTokenizer.from_pretrained(SAVED_MODEL_PATH)#.to(device)\n",
    "SAVED_MODEL = AutoModelForSeq2SeqLM.from_pretrained(SAVED_MODEL_PATH).to(device)\n",
    "\n",
    "\n",
    "model_name = \"facebook/bart-large-cnn\"\n",
    "orignal_model = AutoModelForSeq2SeqLM.from_pretrained(model_name).to(device)\n",
    "orignal_model_tok = AutoTokenizer.from_pretrained(model_name)\n"
   ]
  },
  {
   "cell_type": "code",
   "execution_count": 18,
   "id": "2a8e3a71-92ad-431c-889d-862ef94ca76d",
   "metadata": {},
   "outputs": [
    {
     "data": {
      "text/plain": [
       "(139420416, 139420416)"
      ]
     },
     "execution_count": 18,
     "metadata": {},
     "output_type": "execute_result"
    }
   ],
   "source": [
    "sum(p.numel() for p in bart_base_model.parameters() if p.requires_grad),sum(p.numel() for p in SAVED_MODEL.parameters() if p.requires_grad)"
   ]
  },
  {
   "cell_type": "markdown",
   "id": "988b5cd8-88bd-4607-9430-bbc250e00f34",
   "metadata": {},
   "source": [
    "### Inference loop to generate summaries on test dataset for ROUGE metrics"
   ]
  },
  {
   "cell_type": "code",
   "execution_count": null,
   "id": "277c739b-103c-4439-8c97-8669d1fc4426",
   "metadata": {},
   "outputs": [
    {
     "name": "stdout",
     "output_type": "stream",
     "text": [
      "samples summarized:10\ttime:13.758821725845337\n",
      "samples summarized:20\ttime:28.998841762542725\n",
      "samples summarized:30\ttime:44.66907620429993\n",
      "samples summarized:40\ttime:59.83872199058533\n",
      "samples summarized:50\ttime:75.43314599990845\n",
      "samples summarized:60\ttime:89.36456394195557\n",
      "samples summarized:70\ttime:103.62737607955933\n",
      "samples summarized:80\ttime:118.56200432777405\n",
      "samples summarized:90\ttime:133.41441798210144\n",
      "samples summarized:100\ttime:147.89073586463928\n",
      "samples summarized:110\ttime:161.93118524551392\n",
      "samples summarized:120\ttime:176.86285734176636\n",
      "samples summarized:130\ttime:191.47789239883423\n",
      "samples summarized:140\ttime:206.33463406562805\n",
      "samples summarized:150\ttime:220.77889227867126\n",
      "samples summarized:160\ttime:236.15363025665283\n",
      "samples summarized:170\ttime:249.60998916625977\n",
      "samples summarized:180\ttime:264.09212470054626\n",
      "samples summarized:190\ttime:279.32600688934326\n",
      "samples summarized:200\ttime:294.1669371128082\n",
      "samples summarized:210\ttime:309.57530903816223\n",
      "samples summarized:220\ttime:324.05642437934875\n",
      "samples summarized:230\ttime:339.18821573257446\n",
      "samples summarized:240\ttime:353.92113423347473\n",
      "samples summarized:250\ttime:368.6459913253784\n",
      "samples summarized:260\ttime:383.20401549339294\n",
      "samples summarized:270\ttime:397.78978061676025\n",
      "samples summarized:280\ttime:412.3243656158447\n",
      "samples summarized:290\ttime:427.5757887363434\n",
      "samples summarized:300\ttime:442.89108180999756\n",
      "samples summarized:310\ttime:458.68039774894714\n",
      "samples summarized:320\ttime:473.6651601791382\n",
      "samples summarized:330\ttime:488.0111017227173\n",
      "samples summarized:340\ttime:502.5781168937683\n",
      "samples summarized:350\ttime:516.771603345871\n",
      "samples summarized:360\ttime:532.5062522888184\n",
      "samples summarized:370\ttime:547.6147627830505\n",
      "samples summarized:380\ttime:562.8719940185547\n",
      "samples summarized:390\ttime:577.7819414138794\n",
      "samples summarized:400\ttime:592.9502198696136\n",
      "samples summarized:410\ttime:608.4290573596954\n",
      "samples summarized:420\ttime:623.670244216919\n",
      "samples summarized:430\ttime:638.9278514385223\n",
      "samples summarized:440\ttime:654.5577363967896\n",
      "samples summarized:450\ttime:669.233770608902\n",
      "samples summarized:460\ttime:684.0648937225342\n",
      "samples summarized:470\ttime:698.560099363327\n",
      "samples summarized:480\ttime:713.0403463840485\n",
      "samples summarized:490\ttime:727.5647916793823\n",
      "samples summarized:500\ttime:742.2706980705261\n",
      "samples summarized:510\ttime:757.4589982032776\n",
      "samples summarized:520\ttime:771.538106918335\n",
      "samples summarized:530\ttime:786.3052847385406\n",
      "samples summarized:540\ttime:801.0655753612518\n",
      "samples summarized:550\ttime:815.3060500621796\n"
     ]
    }
   ],
   "source": [
    "import time\n",
    "start_time = time.time()\n",
    "i=1\n",
    "j=0\n",
    "for example in test_data:\n",
    "    if i%10==0:\n",
    "#         print()\n",
    "        j+=10\n",
    "        print(f\"samples summarized:{j}\\ttime:{time.time()-start_time}\")\n",
    "        \n",
    "    generated_summary = summarize(SAVED_MODEL_TOK,SAVED_MODEL,example['dialogue'])\n",
    "    generated_summaries.append(generated_summary[0])\n",
    "    generated_summary_o = summarize(orignal_model_tok,orignal_model,example['dialogue'])\n",
    "    generated_summary_orignal.append(generated_summary_o[0])\n",
    "    actual_summaries.append(example[\"summary\"])\n",
    "    dialogue_list.append(example['dialogue'])\n",
    "    \n",
    "    i+=1\n",
    "    \n",
    "end_time = time.time()\n",
    "total_time = end_time - start_time\n",
    "print(f\"Total time taken: {total_time} seconds\")"
   ]
  },
  {
   "cell_type": "markdown",
   "id": "a8d1ba58-32da-472b-86ff-8eee95edb74b",
   "metadata": {},
   "source": [
    "## ROUGE for orignal base model"
   ]
  },
  {
   "cell_type": "code",
   "execution_count": 6,
   "id": "b790dde0-9579-40cc-be40-cf3cc91cead5",
   "metadata": {},
   "outputs": [
    {
     "name": "stdout",
     "output_type": "stream",
     "text": [
      "Total time taken: 1.0033118724822998 seconds\n",
      "Total time taken: 0.0003552436828613281 seconds\n",
      "Average ROUGE scores:\n",
      "rouge1: 0.30412814809078337\n",
      "rouge2: 0.10309376001724774\n",
      "rougeL: 0.22742836389781787\n"
     ]
    }
   ],
   "source": [
    "from rouge_score import rouge_scorer\n",
    "\n",
    "start_time = time.time()\n",
    "\n",
    "scorer = rouge_scorer.RougeScorer(['rouge1', 'rouge2', 'rougeL'], use_stemmer=True)\n",
    "scores = [scorer.score(actual_summary, gen_summary) for actual_summary, gen_summary in zip(actual_summaries, generated_summary_orignal)]\n",
    "end_time = time.time()\n",
    "total_time = end_time - start_time\n",
    "print(f\"Total time taken: {total_time} seconds\")\n",
    "\n",
    "start_time = time.time()\n",
    "\n",
    "# To calculate average scores\n",
    "average_scores = {}\n",
    "for key in scores[0].keys():\n",
    "    average_scores[key] = sum(score[key].fmeasure for score in scores) / len(scores)\n",
    "\n",
    "    \n",
    "end_time = time.time()\n",
    "total_time = end_time - start_time\n",
    "print(f\"Total time taken: {total_time} seconds\")    \n",
    "print(\"Average ROUGE scores:\")\n",
    "for key, value in average_scores.items():\n",
    "    print(f\"{key}: {value}\")\n"
   ]
  },
  {
   "cell_type": "code",
   "execution_count": 7,
   "id": "4a2016d9-6f18-4fc6-965f-98484eb07f64",
   "metadata": {},
   "outputs": [],
   "source": [
    "import pandas as pd\n",
    "\n",
    "\n",
    "temp_df = pd.DataFrame({'finetune_summary':generated_summaries,'original_summary':generated_summary_orignal,'human_summary':actual_summaries})"
   ]
  },
  {
   "cell_type": "code",
   "execution_count": 1,
   "id": "cd17413f-83a4-47b1-b9ee-7d5cf54cc56a",
   "metadata": {},
   "outputs": [],
   "source": [
    "import pandas as pd\n",
    "df = pd.read_csv(\"BART_BASE_encoder_only.csv\")"
   ]
  },
  {
   "cell_type": "code",
   "execution_count": 8,
   "id": "24bba58f-5ac2-4c38-aa8a-f2bf853b5aa5",
   "metadata": {},
   "outputs": [],
   "source": [
    "temp_df.to_csv('BART_BASE_encoder_only.csv')#.loc[3][0]"
   ]
  },
  {
   "cell_type": "markdown",
   "id": "ac6d1e6f-01ac-49e5-99bd-5eebf4f7880f",
   "metadata": {},
   "source": [
    "### ROUGE for fine-tuned model"
   ]
  },
  {
   "cell_type": "code",
   "execution_count": 2,
   "id": "9f6ff569-0e28-40cf-8803-51f80f0fac37",
   "metadata": {},
   "outputs": [
    {
     "name": "stdout",
     "output_type": "stream",
     "text": [
      "Total time taken: 0.6223886013031006 seconds\n",
      "Total time taken: 0.00037479400634765625 seconds\n",
      "Average ROUGE scores:\n",
      "rouge1: 0.4990108195083427\n",
      "rouge2: 0.2529090060055536\n",
      "rougeL: 0.41599119708693794\n"
     ]
    }
   ],
   "source": [
    "generated_summaries = df['finetune_summary']\n",
    "actual_summaries = df['human_summary']\n",
    "from rouge_score import rouge_scorer\n",
    "import time\n",
    "start_time = time.time()\n",
    "\n",
    "scorer = rouge_scorer.RougeScorer(['rouge1', 'rouge2', 'rougeL'], use_stemmer=True)\n",
    "scores = [scorer.score(actual_summary, gen_summary) for actual_summary, gen_summary in zip(actual_summaries, generated_summaries)]\n",
    "end_time = time.time()\n",
    "total_time = end_time - start_time\n",
    "print(f\"Total time taken: {total_time} seconds\")\n",
    "\n",
    "start_time = time.time()\n",
    "\n",
    "# To calculate average scores\n",
    "average_scores = {}\n",
    "for key in scores[0].keys():\n",
    "    average_scores[key] = sum(score[key].fmeasure for score in scores) / len(scores)\n",
    "\n",
    "    \n",
    "end_time = time.time()\n",
    "total_time = end_time - start_time\n",
    "print(f\"Total time taken: {total_time} seconds\")    \n",
    "print(\"Average ROUGE scores:\")\n",
    "for key, value in average_scores.items():\n",
    "    print(f\"{key}: {value}\")\n"
   ]
  }
 ],
 "metadata": {
  "kernelspec": {
   "display_name": "Python 3",
   "language": "python",
   "name": "python3"
  },
  "language_info": {
   "codemirror_mode": {
    "name": "ipython",
    "version": 3
   },
   "file_extension": ".py",
   "mimetype": "text/x-python",
   "name": "python",
   "nbconvert_exporter": "python",
   "pygments_lexer": "ipython3",
   "version": "3.8.8"
  }
 },
 "nbformat": 4,
 "nbformat_minor": 5
}
