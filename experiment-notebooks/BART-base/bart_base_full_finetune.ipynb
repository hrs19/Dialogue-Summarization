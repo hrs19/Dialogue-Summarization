{
 "cells": [
  {
   "cell_type": "code",
   "execution_count": 1,
   "id": "5ec1ae55-65e0-434a-9426-6816bbeaf1e6",
   "metadata": {},
   "outputs": [],
   "source": [
    "import torch\n",
    "from transformers import Trainer, TrainingArguments\n",
    "from transformers import BartForConditionalGeneration, BartTokenizer\n",
    "from transformers import AutoModelForSeq2SeqLM, AutoTokenizer\n",
    "import os\n",
    "from datasets import load_dataset,load_metric\n",
    "# from evaluate import load_metric\n",
    "from sklearn.model_selection import train_test_split\n",
    "\n",
    "device = 'cuda:0'\n",
    "import emoji\n",
    "emoji_list = emoji.EMOJI_DATA.keys()\n",
    "emoji_descriptions = [emoji.demojize(e, delimiters=(\"<\", \">\")) for e in emoji_list]"
   ]
  },
  {
   "cell_type": "markdown",
   "id": "2a712013-f165-4dcf-9c0b-1046e48d6aea",
   "metadata": {},
   "source": [
    "### Loading the base models from Huggingface\n"
   ]
  },
  {
   "cell_type": "code",
   "execution_count": 2,
   "id": "a523adfb-dfe5-40e2-a64c-a11118bc12d2",
   "metadata": {},
   "outputs": [],
   "source": [
    "model_name = \"facebook/bart-base\"\n",
    "model = AutoModelForSeq2SeqLM.from_pretrained(model_name).to(device)\n"
   ]
  },
  {
   "cell_type": "code",
   "execution_count": 3,
   "id": "e0e1632f-374a-4e1c-b0bc-da9b1c361dab",
   "metadata": {},
   "outputs": [
    {
     "data": {
      "text/plain": [
       "BartForConditionalGeneration(\n",
       "  (model): BartModel(\n",
       "    (shared): Embedding(50265, 768, padding_idx=1)\n",
       "    (encoder): BartEncoder(\n",
       "      (embed_tokens): Embedding(50265, 768, padding_idx=1)\n",
       "      (embed_positions): BartLearnedPositionalEmbedding(1026, 768)\n",
       "      (layers): ModuleList(\n",
       "        (0-5): 6 x BartEncoderLayer(\n",
       "          (self_attn): BartAttention(\n",
       "            (k_proj): Linear(in_features=768, out_features=768, bias=True)\n",
       "            (v_proj): Linear(in_features=768, out_features=768, bias=True)\n",
       "            (q_proj): Linear(in_features=768, out_features=768, bias=True)\n",
       "            (out_proj): Linear(in_features=768, out_features=768, bias=True)\n",
       "          )\n",
       "          (self_attn_layer_norm): LayerNorm((768,), eps=1e-05, elementwise_affine=True)\n",
       "          (activation_fn): GELUActivation()\n",
       "          (fc1): Linear(in_features=768, out_features=3072, bias=True)\n",
       "          (fc2): Linear(in_features=3072, out_features=768, bias=True)\n",
       "          (final_layer_norm): LayerNorm((768,), eps=1e-05, elementwise_affine=True)\n",
       "        )\n",
       "      )\n",
       "      (layernorm_embedding): LayerNorm((768,), eps=1e-05, elementwise_affine=True)\n",
       "    )\n",
       "    (decoder): BartDecoder(\n",
       "      (embed_tokens): Embedding(50265, 768, padding_idx=1)\n",
       "      (embed_positions): BartLearnedPositionalEmbedding(1026, 768)\n",
       "      (layers): ModuleList(\n",
       "        (0-5): 6 x BartDecoderLayer(\n",
       "          (self_attn): BartAttention(\n",
       "            (k_proj): Linear(in_features=768, out_features=768, bias=True)\n",
       "            (v_proj): Linear(in_features=768, out_features=768, bias=True)\n",
       "            (q_proj): Linear(in_features=768, out_features=768, bias=True)\n",
       "            (out_proj): Linear(in_features=768, out_features=768, bias=True)\n",
       "          )\n",
       "          (activation_fn): GELUActivation()\n",
       "          (self_attn_layer_norm): LayerNorm((768,), eps=1e-05, elementwise_affine=True)\n",
       "          (encoder_attn): BartAttention(\n",
       "            (k_proj): Linear(in_features=768, out_features=768, bias=True)\n",
       "            (v_proj): Linear(in_features=768, out_features=768, bias=True)\n",
       "            (q_proj): Linear(in_features=768, out_features=768, bias=True)\n",
       "            (out_proj): Linear(in_features=768, out_features=768, bias=True)\n",
       "          )\n",
       "          (encoder_attn_layer_norm): LayerNorm((768,), eps=1e-05, elementwise_affine=True)\n",
       "          (fc1): Linear(in_features=768, out_features=3072, bias=True)\n",
       "          (fc2): Linear(in_features=3072, out_features=768, bias=True)\n",
       "          (final_layer_norm): LayerNorm((768,), eps=1e-05, elementwise_affine=True)\n",
       "        )\n",
       "      )\n",
       "      (layernorm_embedding): LayerNorm((768,), eps=1e-05, elementwise_affine=True)\n",
       "    )\n",
       "  )\n",
       "  (lm_head): Linear(in_features=768, out_features=50265, bias=False)\n",
       ")"
      ]
     },
     "execution_count": 3,
     "metadata": {},
     "output_type": "execute_result"
    }
   ],
   "source": [
    "model"
   ]
  },
  {
   "cell_type": "code",
   "execution_count": 4,
   "id": "95b33dc1-957b-4b8a-95a8-e413102ff398",
   "metadata": {},
   "outputs": [
    {
     "data": {
      "text/plain": [
       "Embedding(54053, 768)"
      ]
     },
     "execution_count": 4,
     "metadata": {},
     "output_type": "execute_result"
    }
   ],
   "source": [
    "tokenizer = AutoTokenizer.from_pretrained(model_name)\n",
    "# tokenizer2 = AutoTokenizer.from_pretrained(model_name)\n",
    "\n",
    "new_tokens = ['<file_photo>','<file_picture>','<file_other>','<file_video>','<file_image>','<file_gif>']\n",
    "new_tokens = new_tokens+emoji_descriptions\n",
    "tokenizer.add_special_tokens({'additional_special_tokens': new_tokens})\n",
    "model.resize_token_embeddings(len(tokenizer))"
   ]
  },
  {
   "cell_type": "markdown",
   "id": "9f61b878-6140-456b-9842-b3f00a2b9b96",
   "metadata": {},
   "source": [
    "### Loading the SAMSum dataset"
   ]
  },
  {
   "cell_type": "code",
   "execution_count": 5,
   "id": "df3034e0-d3ca-40e8-bc42-7b34401dfae4",
   "metadata": {},
   "outputs": [],
   "source": [
    "# Load the Samsum dataset\n",
    "dataset = load_dataset(\"samsum\")\n",
    "\n",
    "train_data = dataset[\"train\"]\n",
    "validation_data = dataset[\"validation\"] \n",
    "test_data = dataset[\"test\"]"
   ]
  },
  {
   "cell_type": "markdown",
   "id": "550e92ac-e6f8-4c7b-8945-ac469bdf3d3d",
   "metadata": {},
   "source": [
    "### Tokenizing Function"
   ]
  },
  {
   "cell_type": "code",
   "execution_count": 6,
   "id": "c01c1c29-d3cc-425f-992a-88bc35b541be",
   "metadata": {},
   "outputs": [],
   "source": [
    "# Tokenzing\n",
    "def tokenize_function(tokenizer,examples):\n",
    "    input_dialogues = [\"Summarize dialogue >>\\n \" + emoji.demojize(dialogue, delimiters=(\"<\", \">\")) for dialogue in examples[\"dialogue\"]]\n",
    "    inputs = tokenizer(input_dialogues, padding=\"max_length\", truncation=True, max_length=1000)\n",
    "    targets = tokenizer(examples[\"summary\"], padding=\"max_length\", truncation=True, max_length=100)\n",
    "    return {\"input_ids\": inputs[\"input_ids\"], \"attention_mask\": inputs[\"attention_mask\"], \"labels\": targets[\"input_ids\"]}\n"
   ]
  },
  {
   "cell_type": "code",
   "execution_count": 7,
   "id": "0ff3728e-e330-4999-9b38-609f48a0b3fe",
   "metadata": {},
   "outputs": [],
   "source": [
    "train_data_tokenized = train_data.map(lambda examples: tokenize_function(tokenizer, examples), batched=True)\n",
    "validation_data_tokenized = validation_data.map(lambda examples: tokenize_function(tokenizer, examples), batched=True)\n",
    "test_data_tokenized = test_data.map(lambda examples: tokenize_function(tokenizer, examples), batched=True)\n"
   ]
  },
  {
   "cell_type": "code",
   "execution_count": 8,
   "id": "27fa8aca-3b1a-4389-938e-d0127c274270",
   "metadata": {},
   "outputs": [
    {
     "name": "stderr",
     "output_type": "stream",
     "text": [
      "Token indices sequence length is longer than the specified maximum sequence length for this model (1078 > 1024). Running this sequence through the model will result in indexing errors\n"
     ]
    },
    {
     "data": {
      "image/png": "[encoded data removed]",
      "text/plain": [
       "<Figure size 432x288 with 1 Axes>"
      ]
     },
     "metadata": {
      "needs_background": "light"
     },
     "output_type": "display_data"
    },
    {
     "data": {
      "image/png": "[encoded data removed]",
      "text/plain": [
       "<Figure size 432x288 with 1 Axes>"
      ]
     },
     "metadata": {
      "needs_background": "light"
     },
     "output_type": "display_data"
    }
   ],
   "source": [
    "d_len = [len(tokenizer.encode(s)) for s in train_data[\"dialogue\"]]\n",
    "s_len = [len(tokenizer.encode(s)) for s in train_data[\"summary\"]]\n",
    "\n",
    "import seaborn as sns\n",
    "import matplotlib.pyplot as plt\n",
    "\n",
    "sns.histplot(d_len, bins=50, color='blue', kde=True)\n",
    "plt.xlabel('Length of Dialogue')\n",
    "plt.ylabel('Frequency')\n",
    "plt.title('Histogram of Dialogue Lengths')\n",
    "plt.grid(True)\n",
    "plt.show()\n",
    "# plt.save(\"input_length.png\")\n",
    "sns.histplot(s_len, bins=50, color='green', kde=True)\n",
    "plt.xlabel('Length of Summary')\n",
    "plt.ylabel('Frequency')\n",
    "plt.title('Histogram of Summary Lengths')\n",
    "plt.grid(True)\n",
    "plt.show()\n",
    "# plt.save(\"summary_length.png\")"
   ]
  },
  {
   "cell_type": "markdown",
   "id": "35eddce1-8ce6-4650-8d0e-4468153ae9a9",
   "metadata": {},
   "source": [
    "### Sample summarization code"
   ]
  },
  {
   "cell_type": "code",
   "execution_count": 8,
   "id": "c5d299df-4631-49e3-8872-5cbe391a07bb",
   "metadata": {},
   "outputs": [],
   "source": [
    "def summarize(tokenizer,model,text):\n",
    "#     print(f\"Summarize dialogue >>\\n {emoji.demojize(text, delimiters=('<', '>'))}\")\n",
    "    inputs = tokenizer(f\"Summarize dialogue >>\\n {emoji.demojize(text, delimiters=('<', '>'))}\", return_tensors=\"pt\", max_length=1000, truncation=True, padding=\"max_length\").to(device)\n",
    "    \n",
    "    # Generate summary\n",
    "    summary_ids = model.generate(inputs.input_ids, num_beams=4, max_length=100, early_stopping=True)\n",
    "    # Decode the summary\n",
    "    summary = [tokenizer.decode(g, skip_special_tokens=True, clean_up_tokenization_spaces=False) for g in summary_ids]\n",
    "    \n",
    "    return summary[0]\n"
   ]
  },
  {
   "cell_type": "markdown",
   "id": "afab579e-5ec0-4a49-8f1d-723a6f1d8c3a",
   "metadata": {},
   "source": [
    "### Model - BART"
   ]
  },
  {
   "cell_type": "code",
   "execution_count": 9,
   "id": "316b8fae-3986-4b79-a479-c7f4ed1423fa",
   "metadata": {},
   "outputs": [
    {
     "name": "stdout",
     "output_type": "stream",
     "text": [
      "Trainable parameters: 142329600\n"
     ]
    }
   ],
   "source": [
    "# for name, param in bart_base_model.named_parameters():\n",
    "#     if param.requires_grad:\n",
    "#         print(name)\n",
    "trainable_params = sum(p.numel() for p in model.parameters() if p.requires_grad)\n",
    "print(\"Trainable parameters:\", trainable_params)        \n",
    "#247577856/142329600"
   ]
  },
  {
   "cell_type": "markdown",
   "id": "ccd41784-e885-45f3-a849-6fe169c05cff",
   "metadata": {},
   "source": [
    "### Training"
   ]
  },
  {
   "cell_type": "code",
   "execution_count": 10,
   "id": "968e408c-a94b-4815-a90f-cf2827dfa8f2",
   "metadata": {},
   "outputs": [],
   "source": [
    "output_dir = \"./bart_base_full_finetune_emoji\"\n",
    "# if not os.path.exists(output_dir):\n",
    "#     os.makedirs(output_dir)"
   ]
  },
  {
   "cell_type": "code",
   "execution_count": 11,
   "id": "337b964e-7a1a-4a5c-ab1a-b17a73198196",
   "metadata": {},
   "outputs": [
    {
     "name": "stderr",
     "output_type": "stream",
     "text": [
      "<ipython-input-11-6f3242da5164>:16: FutureWarning: load_metric is deprecated and will be removed in the next major version of datasets. Use 'evaluate.load' instead, from the new library 🤗 Evaluate: https://huggingface.co/docs/evaluate\n",
      "  rouge_metric = load_metric(\"rouge\")\n",
      "/home/sampgaon.h/.local/lib/python3.8/site-packages/datasets/load.py:756: FutureWarning: The repository for rouge contains custom code which must be executed to correctly load the metric. You can inspect the repository content at https://raw.githubusercontent.com/huggingface/datasets/2.18.0/metrics/rouge/rouge.py\n",
      "You can avoid this message in future by passing the argument `trust_remote_code=True`.\n",
      "Passing `trust_remote_code=True` will be mandatory to load this metric from the next major release of `datasets`.\n",
      "  warnings.warn(\n"
     ]
    }
   ],
   "source": [
    "training_args = TrainingArguments(\n",
    "#     eval_device='cpu',\n",
    "    overwrite_output_dir = False,\n",
    "    output_dir=output_dir,\n",
    "    per_device_train_batch_size=4,\n",
    "    per_device_eval_batch_size=4,\n",
    "#     evaluation_strategy=\"steps\",\n",
    "    logging_dir=f\"{output_dir}/logs\",\n",
    "    logging_steps=500,\n",
    "    save_strategy=\"epoch\",\n",
    "    save_total_limit=3,\n",
    "    num_train_epochs=20,\n",
    "    learning_rate=1e-4,\n",
    ")\n",
    "\n",
    "rouge_metric = load_metric(\"rouge\")\n",
    "\n",
    "trainer = Trainer(\n",
    "    model=model,\n",
    "    args=training_args,\n",
    "    train_dataset=train_data_tokenized,\n",
    "    eval_dataset=validation_data_tokenized,\n",
    "#     compute_metrics=lambda pred: rouge_metric.compute(predictions=pred.predictions, references=pred.label_ids)\n",
    ")\n",
    "\n",
    "# trainer = Trainer( \n",
    "#     model=bart_base_model,\n",
    "#     args=training_args,\n",
    "#     train_dataset=train_data_tokenized\n",
    "# )"
   ]
  },
  {
   "cell_type": "code",
   "execution_count": 12,
   "id": "47025577-9e39-49f0-993e-9f1df1af03ee",
   "metadata": {},
   "outputs": [
    {
     "name": "stderr",
     "output_type": "stream",
     "text": [
      "/home/sampgaon.h/.local/lib/python3.8/site-packages/transformers/optimization.py:391: FutureWarning: This implementation of AdamW is deprecated and will be removed in a future version. Use the PyTorch implementation torch.optim.AdamW instead, or set `no_deprecation_warning=True` to disable this warning\n",
      "  warnings.warn(\n"
     ]
    },
    {
     "data": {
      "text/html": [
       "\n",
       "    <div>\n",
       "      \n",
       "      <progress value='73660' max='73660' style='width:300px; height:20px; vertical-align: middle;'></progress>\n",
       "      [73660/73660 2:28:44, Epoch 20/20]\n",
       "    </div>\n",
       "    <table border=\"1\" class=\"dataframe\">\n",
       "  <thead>\n",
       " <tr style=\"text-align: left;\">\n",
       "      <th>Step</th>\n",
       "      <th>Training Loss</th>\n",
       "    </tr>\n",
       "  </thead>\n",
       "  <tbody>\n",
       "    <tr>\n",
       "      <td>52000</td>\n",
       "      <td>0.042000</td>\n",
       "    </tr>\n",
       "    <tr>\n",
       "      <td>52500</td>\n",
       "      <td>0.045400</td>\n",
       "    </tr>\n",
       "    <tr>\n",
       "      <td>53000</td>\n",
       "      <td>0.046000</td>\n",
       "    </tr>\n",
       "    <tr>\n",
       "      <td>53500</td>\n",
       "      <td>0.046800</td>\n",
       "    </tr>\n",
       "    <tr>\n",
       "      <td>54000</td>\n",
       "      <td>0.047300</td>\n",
       "    </tr>\n",
       "    <tr>\n",
       "      <td>54500</td>\n",
       "      <td>0.047300</td>\n",
       "    </tr>\n",
       "    <tr>\n",
       "      <td>55000</td>\n",
       "      <td>0.048400</td>\n",
       "    </tr>\n",
       "    <tr>\n",
       "      <td>55500</td>\n",
       "      <td>0.040100</td>\n",
       "    </tr>\n",
       "    <tr>\n",
       "      <td>56000</td>\n",
       "      <td>0.034700</td>\n",
       "    </tr>\n",
       "    <tr>\n",
       "      <td>56500</td>\n",
       "      <td>0.036400</td>\n",
       "    </tr>\n",
       "    <tr>\n",
       "      <td>57000</td>\n",
       "      <td>0.036300</td>\n",
       "    </tr>\n",
       "    <tr>\n",
       "      <td>57500</td>\n",
       "      <td>0.037200</td>\n",
       "    </tr>\n",
       "    <tr>\n",
       "      <td>58000</td>\n",
       "      <td>0.037900</td>\n",
       "    </tr>\n",
       "    <tr>\n",
       "      <td>58500</td>\n",
       "      <td>0.038100</td>\n",
       "    </tr>\n",
       "    <tr>\n",
       "      <td>59000</td>\n",
       "      <td>0.036700</td>\n",
       "    </tr>\n",
       "    <tr>\n",
       "      <td>59500</td>\n",
       "      <td>0.027900</td>\n",
       "    </tr>\n",
       "    <tr>\n",
       "      <td>60000</td>\n",
       "      <td>0.028000</td>\n",
       "    </tr>\n",
       "    <tr>\n",
       "      <td>60500</td>\n",
       "      <td>0.028800</td>\n",
       "    </tr>\n",
       "    <tr>\n",
       "      <td>61000</td>\n",
       "      <td>0.029000</td>\n",
       "    </tr>\n",
       "    <tr>\n",
       "      <td>61500</td>\n",
       "      <td>0.027600</td>\n",
       "    </tr>\n",
       "    <tr>\n",
       "      <td>62000</td>\n",
       "      <td>0.029500</td>\n",
       "    </tr>\n",
       "    <tr>\n",
       "      <td>62500</td>\n",
       "      <td>0.029600</td>\n",
       "    </tr>\n",
       "    <tr>\n",
       "      <td>63000</td>\n",
       "      <td>0.023400</td>\n",
       "    </tr>\n",
       "    <tr>\n",
       "      <td>63500</td>\n",
       "      <td>0.022600</td>\n",
       "    </tr>\n",
       "    <tr>\n",
       "      <td>64000</td>\n",
       "      <td>0.022400</td>\n",
       "    </tr>\n",
       "    <tr>\n",
       "      <td>64500</td>\n",
       "      <td>0.023400</td>\n",
       "    </tr>\n",
       "    <tr>\n",
       "      <td>65000</td>\n",
       "      <td>0.023600</td>\n",
       "    </tr>\n",
       "    <tr>\n",
       "      <td>65500</td>\n",
       "      <td>0.022700</td>\n",
       "    </tr>\n",
       "    <tr>\n",
       "      <td>66000</td>\n",
       "      <td>0.021700</td>\n",
       "    </tr>\n",
       "    <tr>\n",
       "      <td>66500</td>\n",
       "      <td>0.020400</td>\n",
       "    </tr>\n",
       "    <tr>\n",
       "      <td>67000</td>\n",
       "      <td>0.017000</td>\n",
       "    </tr>\n",
       "    <tr>\n",
       "      <td>67500</td>\n",
       "      <td>0.018200</td>\n",
       "    </tr>\n",
       "    <tr>\n",
       "      <td>68000</td>\n",
       "      <td>0.018300</td>\n",
       "    </tr>\n",
       "    <tr>\n",
       "      <td>68500</td>\n",
       "      <td>0.018400</td>\n",
       "    </tr>\n",
       "    <tr>\n",
       "      <td>69000</td>\n",
       "      <td>0.017700</td>\n",
       "    </tr>\n",
       "    <tr>\n",
       "      <td>69500</td>\n",
       "      <td>0.018000</td>\n",
       "    </tr>\n",
       "    <tr>\n",
       "      <td>70000</td>\n",
       "      <td>0.018300</td>\n",
       "    </tr>\n",
       "    <tr>\n",
       "      <td>70500</td>\n",
       "      <td>0.014200</td>\n",
       "    </tr>\n",
       "    <tr>\n",
       "      <td>71000</td>\n",
       "      <td>0.014900</td>\n",
       "    </tr>\n",
       "    <tr>\n",
       "      <td>71500</td>\n",
       "      <td>0.014100</td>\n",
       "    </tr>\n",
       "    <tr>\n",
       "      <td>72000</td>\n",
       "      <td>0.014800</td>\n",
       "    </tr>\n",
       "    <tr>\n",
       "      <td>72500</td>\n",
       "      <td>0.014500</td>\n",
       "    </tr>\n",
       "    <tr>\n",
       "      <td>73000</td>\n",
       "      <td>0.014300</td>\n",
       "    </tr>\n",
       "    <tr>\n",
       "      <td>73500</td>\n",
       "      <td>0.014400</td>\n",
       "    </tr>\n",
       "  </tbody>\n",
       "</table><p>"
      ],
      "text/plain": [
       "<IPython.core.display.HTML object>"
      ]
     },
     "metadata": {},
     "output_type": "display_data"
    },
    {
     "data": {
      "text/plain": [
       "TrainOutput(global_step=73660, training_loss=0.008332738735868074, metrics={'train_runtime': 8925.9558, 'train_samples_per_second': 33.009, 'train_steps_per_second': 8.252, 'total_flos': 1.754421387264e+17, 'train_loss': 0.008332738735868074, 'epoch': 20.0})"
      ]
     },
     "execution_count": 12,
     "metadata": {},
     "output_type": "execute_result"
    }
   ],
   "source": [
    "trainer.train(resume_from_checkpoint = True)"
   ]
  },
  {
   "cell_type": "code",
   "execution_count": 13,
   "id": "00744cd3-300f-43f9-97dd-96d4219329c2",
   "metadata": {},
   "outputs": [
    {
     "name": "stdout",
     "output_type": "stream",
     "text": [
      "ROUGE scores: {'eval_runtime': 0.0018, 'eval_samples_per_second': 0.0, 'eval_steps_per_second': 0.0}\n"
     ]
    }
   ],
   "source": [
    "trainer.save_model('./bart_base_full_finetune_emoji_save-20')\n",
    "\n",
    "\n",
    "eval_trainer = Trainer(\n",
    "    model=model,\n",
    "    eval_dataset=validation_data_tokenized,\n",
    "    compute_metrics=lambda pred: rouge_metric.compute(predictions=pred.predictions, references=pred.label_ids)\n",
    ")\n",
    "\n",
    "# Evaluate the model on the test set\n",
    "results = eval_trainer.evaluate(test_data)\n",
    "# results = trainer.evaluate(test_data)\n",
    "print(\"ROUGE scores:\", results)"
   ]
  },
  {
   "cell_type": "code",
   "execution_count": 14,
   "id": "73c8185e-c034-47e8-b3a9-3aac572d095a",
   "metadata": {},
   "outputs": [
    {
     "data": {
      "text/plain": [
       "('./tokenizer-emoji-20/tokenizer_config.json',\n",
       " './tokenizer-emoji-20/special_tokens_map.json',\n",
       " './tokenizer-emoji-20/vocab.json',\n",
       " './tokenizer-emoji-20/merges.txt',\n",
       " './tokenizer-emoji-20/added_tokens.json',\n",
       " './tokenizer-emoji-20/tokenizer.json')"
      ]
     },
     "execution_count": 14,
     "metadata": {},
     "output_type": "execute_result"
    }
   ],
   "source": [
    "# output_dir = './tokenizer'\n",
    "tokenizer.save_pretrained('./tokenizer-emoji-20')\n"
   ]
  },
  {
   "cell_type": "code",
   "execution_count": 12,
   "id": "28a9bedc-9c08-480f-929f-5a6f823772e9",
   "metadata": {},
   "outputs": [
    {
     "name": "stdout",
     "output_type": "stream",
     "text": [
      "ROUGE scores: {'eval_runtime': 0.0025, 'eval_samples_per_second': 0.0, 'eval_steps_per_second': 0.0}\n"
     ]
    }
   ],
   "source": [
    "results = eval_trainer.evaluate(test_data)\n",
    "# results = trainer.evaluate(test_data)\n",
    "print(\"ROUGE scores:\", results)"
   ]
  },
  {
   "cell_type": "code",
   "execution_count": 15,
   "id": "f2db433c-7b24-4df0-84fb-6677cc28b215",
   "metadata": {},
   "outputs": [],
   "source": [
    "# orignal_model = \n",
    "\n",
    "model_name = \"facebook/bart-base\"\n",
    "orignal_model = AutoModelForSeq2SeqLM.from_pretrained(model_name).to(device)\n",
    "orignal_model_tok = AutoTokenizer.from_pretrained(model_name)\n"
   ]
  },
  {
   "cell_type": "markdown",
   "id": "048b6924-e39b-4326-a036-304b18a292ff",
   "metadata": {},
   "source": [
    "### ROUGE SCORE -- inference\n"
   ]
  },
  {
   "cell_type": "code",
   "execution_count": 15,
   "id": "5f70bd67-b15e-4f6b-8fe7-1c224e95d19c",
   "metadata": {},
   "outputs": [],
   "source": [
    "def summarize(tokenizer,model,text):\n",
    "    \"\"\"\n",
    "    Summarizes the given text using the provided tokenizer and model.\n",
    "\n",
    "    Args:\n",
    "        tokenizer (Tokenizer): The tokenizer used to tokenize the input text.\n",
    "        model (Model): The model used for summarization.\n",
    "        text (str): The text to be summarized.\n",
    "\n",
    "    Returns:\n",
    "        list: A list containing the summarized text.    \n",
    "    \"\"\"    \n",
    "    \n",
    "    inputs = tokenizer(f\"Summarize dialogue >>\\n {emoji.demojize(text, delimiters=('<', '>'))}\", return_tensors=\"pt\", max_length=1000, truncation=True, padding=\"max_length\").to(device)\n",
    "    \n",
    "    # Generate summary\n",
    "    summary_ids = model.generate(inputs.input_ids, num_beams=4, max_length=100, early_stopping=True)\n",
    "    # Decode the summary\n",
    "    summary = [tokenizer.decode(g, skip_special_tokens=True, clean_up_tokenization_spaces=False) for g in summary_ids]\n",
    "    \n",
    "    return summary\n",
    "\n",
    "\n",
    "generated_summaries = []\n",
    "actual_summaries = []\n",
    "generated_summary_orignal = []\n",
    "dialogue_list = []\n",
    "SAVED_MODEL_PATH = './bart_base_full_finetune_emoji_save-20'\n",
    "SAVED_TOK_PATH = 'tokenizer-emoji'\n",
    "SAVED_MODEL_TOK = BartTokenizer.from_pretrained(SAVED_TOK_PATH)#.to(device)\n",
    "SAVED_MODEL = BartForConditionalGeneration.from_pretrained(SAVED_MODEL_PATH).to(device)\n",
    "\n",
    "\n",
    "model_name = \"facebook/bart-base\"\n",
    "orignal_model = AutoModelForSeq2SeqLM.from_pretrained(model_name).to(device)\n",
    "orignal_model_tok = AutoTokenizer.from_pretrained(model_name)\n"
   ]
  },
  {
   "cell_type": "markdown",
   "id": "000bfead-b8cc-4b41-9c20-a780c9a2cf3e",
   "metadata": {},
   "source": [
    "### Inference loop to generate summaries on test dataset for ROUGE metrics"
   ]
  },
  {
   "cell_type": "code",
   "execution_count": 16,
   "id": "f12b8676-58c8-4074-b298-78dcf2a67c70",
   "metadata": {},
   "outputs": [
    {
     "name": "stdout",
     "output_type": "stream",
     "text": [
      "samples summarized:10\ttime:13.612424612045288\n",
      "samples summarized:20\ttime:28.75102138519287\n",
      "samples summarized:30\ttime:43.87571144104004\n",
      "samples summarized:40\ttime:56.96833825111389\n",
      "samples summarized:50\ttime:70.36589527130127\n",
      "samples summarized:60\ttime:83.7672266960144\n",
      "samples summarized:70\ttime:96.55684280395508\n",
      "samples summarized:80\ttime:110.15830326080322\n",
      "samples summarized:90\ttime:124.33040595054626\n",
      "samples summarized:100\ttime:137.63712406158447\n",
      "samples summarized:110\ttime:148.71072840690613\n",
      "samples summarized:120\ttime:162.8433039188385\n",
      "samples summarized:130\ttime:175.4967179298401\n",
      "samples summarized:140\ttime:189.71921372413635\n",
      "samples summarized:150\ttime:202.7748260498047\n",
      "samples summarized:160\ttime:216.24117279052734\n",
      "samples summarized:170\ttime:229.35436511039734\n",
      "samples summarized:180\ttime:242.84064030647278\n",
      "samples summarized:190\ttime:256.6531422138214\n",
      "samples summarized:200\ttime:270.6927156448364\n",
      "samples summarized:210\ttime:284.8746464252472\n",
      "samples summarized:220\ttime:298.65330624580383\n",
      "samples summarized:230\ttime:312.40937757492065\n",
      "samples summarized:240\ttime:324.9770669937134\n",
      "samples summarized:250\ttime:339.2664442062378\n",
      "samples summarized:260\ttime:353.06354093551636\n",
      "samples summarized:270\ttime:366.77381467819214\n",
      "samples summarized:280\ttime:379.6473536491394\n",
      "samples summarized:290\ttime:394.7250306606293\n",
      "samples summarized:300\ttime:407.9157221317291\n",
      "samples summarized:310\ttime:422.94604539871216\n",
      "samples summarized:320\ttime:437.94641637802124\n",
      "samples summarized:330\ttime:449.6151432991028\n",
      "samples summarized:340\ttime:464.3675117492676\n",
      "samples summarized:350\ttime:476.3579058647156\n",
      "samples summarized:360\ttime:491.2808589935303\n",
      "samples summarized:370\ttime:504.9991157054901\n",
      "samples summarized:380\ttime:519.9540801048279\n",
      "samples summarized:390\ttime:533.0424683094025\n",
      "samples summarized:400\ttime:547.4322445392609\n",
      "samples summarized:410\ttime:561.3703300952911\n",
      "samples summarized:420\ttime:575.2478408813477\n",
      "samples summarized:430\ttime:590.9480214118958\n",
      "samples summarized:440\ttime:605.8652603626251\n",
      "samples summarized:450\ttime:619.1687695980072\n",
      "samples summarized:460\ttime:633.1731758117676\n",
      "samples summarized:470\ttime:647.6044919490814\n",
      "samples summarized:480\ttime:662.310879945755\n",
      "samples summarized:490\ttime:675.3575809001923\n",
      "samples summarized:500\ttime:689.5561194419861\n",
      "samples summarized:510\ttime:703.8104245662689\n",
      "samples summarized:520\ttime:715.7871999740601\n",
      "samples summarized:530\ttime:728.5694742202759\n",
      "samples summarized:540\ttime:741.4770197868347\n",
      "samples summarized:550\ttime:754.251739025116\n",
      "samples summarized:560\ttime:767.8812210559845\n",
      "samples summarized:570\ttime:780.3988087177277\n",
      "samples summarized:580\ttime:794.4753558635712\n",
      "samples summarized:590\ttime:808.084329366684\n",
      "samples summarized:600\ttime:821.8318781852722\n",
      "samples summarized:610\ttime:835.4556121826172\n",
      "samples summarized:620\ttime:850.0311191082001\n",
      "samples summarized:630\ttime:865.4802088737488\n",
      "samples summarized:640\ttime:878.1803841590881\n",
      "samples summarized:650\ttime:893.2274129390717\n",
      "samples summarized:660\ttime:906.2784330844879\n",
      "samples summarized:670\ttime:919.0847322940826\n",
      "samples summarized:680\ttime:933.0586438179016\n",
      "samples summarized:690\ttime:946.9559197425842\n",
      "samples summarized:700\ttime:960.4520015716553\n",
      "samples summarized:710\ttime:974.7810125350952\n",
      "samples summarized:720\ttime:987.7583830356598\n",
      "samples summarized:730\ttime:1001.8846747875214\n",
      "samples summarized:740\ttime:1015.9679129123688\n",
      "samples summarized:750\ttime:1029.8954372406006\n",
      "samples summarized:760\ttime:1043.1504411697388\n",
      "samples summarized:770\ttime:1057.5226740837097\n",
      "samples summarized:780\ttime:1070.62109208107\n",
      "samples summarized:790\ttime:1083.4572381973267\n",
      "samples summarized:800\ttime:1096.7328310012817\n",
      "samples summarized:810\ttime:1109.3233029842377\n",
      "Total time taken: 1123.4343729019165 seconds\n"
     ]
    }
   ],
   "source": [
    "import time\n",
    "start_time = time.time()\n",
    "i=1\n",
    "j=0\n",
    "for example in test_data:\n",
    "    if i%10==0:\n",
    "#         print()\n",
    "        j+=10\n",
    "        print(f\"samples summarized:{j}\\ttime:{time.time()-start_time}\")\n",
    "#         print(f\"\",)\n",
    "#     print(example['dialogue'])\n",
    "    generated_summary = summarize(SAVED_MODEL_TOK,SAVED_MODEL,example['dialogue'])\n",
    "    generated_summaries.append(generated_summary[0])\n",
    "    generated_summary_o = summarize(orignal_model_tok,orignal_model,example['dialogue'])\n",
    "    generated_summary_orignal.append(generated_summary_o[0])\n",
    "    actual_summaries.append(example[\"summary\"])\n",
    "    dialogue_list.append(example['dialogue'])\n",
    "    \n",
    "    i+=1\n",
    "    \n",
    "end_time = time.time()\n",
    "total_time = end_time - start_time\n",
    "print(f\"Total time taken: {total_time} seconds\")"
   ]
  },
  {
   "cell_type": "code",
   "execution_count": 18,
   "id": "2a8e3a71-92ad-431c-889d-862ef94ca76d",
   "metadata": {},
   "outputs": [
    {
     "data": {
      "text/plain": [
       "(139420416, 139420416)"
      ]
     },
     "execution_count": 18,
     "metadata": {},
     "output_type": "execute_result"
    }
   ],
   "source": [
    "sum(p.numel() for p in bart_base_model.parameters() if p.requires_grad),sum(p.numel() for p in SAVED_MODEL.parameters() if p.requires_grad)"
   ]
  },
  {
   "cell_type": "markdown",
   "id": "a8d1ba58-32da-472b-86ff-8eee95edb74b",
   "metadata": {},
   "source": [
    "## ROUGE for orignal base model"
   ]
  },
  {
   "cell_type": "code",
   "execution_count": 20,
   "id": "b790dde0-9579-40cc-be40-cf3cc91cead5",
   "metadata": {},
   "outputs": [
    {
     "name": "stdout",
     "output_type": "stream",
     "text": [
      "Total time taken: 1.2444276809692383 seconds\n",
      "Total time taken: 0.0004544258117675781 seconds\n",
      "Average ROUGE scores:\n",
      "rouge1: 0.26169222463055913\n",
      "rouge2: 0.08215245169992622\n",
      "rougeL: 0.1960244210163297\n"
     ]
    }
   ],
   "source": [
    "from rouge_score import rouge_scorer\n",
    "\n",
    "start_time = time.time()\n",
    "\n",
    "scorer = rouge_scorer.RougeScorer(['rouge1', 'rouge2', 'rougeL'], use_stemmer=True)\n",
    "scores = [scorer.score(actual_summary, gen_summary) for actual_summary, gen_summary in zip(actual_summaries, generated_summary_orignal)]\n",
    "end_time = time.time()\n",
    "total_time = end_time - start_time\n",
    "print(f\"Total time taken: {total_time} seconds\")\n",
    "\n",
    "start_time = time.time()\n",
    "\n",
    "# To calculate average scores\n",
    "average_scores = {}\n",
    "for key in scores[0].keys():\n",
    "    average_scores[key] = sum(score[key].fmeasure for score in scores) / len(scores)\n",
    "\n",
    "    \n",
    "end_time = time.time()\n",
    "total_time = end_time - start_time\n",
    "print(f\"Total time taken: {total_time} seconds\")    \n",
    "print(\"Average ROUGE scores:\")\n",
    "for key, value in average_scores.items():\n",
    "    print(f\"{key}: {value}\")\n"
   ]
  },
  {
   "cell_type": "code",
   "execution_count": 22,
   "id": "4a2016d9-6f18-4fc6-965f-98484eb07f64",
   "metadata": {},
   "outputs": [],
   "source": [
    "import pandas as pd\n",
    "\n",
    "\n",
    "temp_df = pd.DataFrame({'finetune_summary':generated_summaries,'original_summary':generated_summary_orignal,'human_summary':actual_summaries,'dialog':dialogue_list})"
   ]
  },
  {
   "cell_type": "code",
   "execution_count": 23,
   "id": "24bba58f-5ac2-4c38-aa8a-f2bf853b5aa5",
   "metadata": {},
   "outputs": [],
   "source": [
    "temp_df.to_csv('bart_base_full_results_20_epoch.csv')#.loc[3][0]"
   ]
  },
  {
   "cell_type": "markdown",
   "id": "f3702083-5787-4508-8951-6545bc418db9",
   "metadata": {},
   "source": [
    "### ROUGE for fine-tuned model"
   ]
  },
  {
   "cell_type": "code",
   "execution_count": 21,
   "id": "9f6ff569-0e28-40cf-8803-51f80f0fac37",
   "metadata": {},
   "outputs": [
    {
     "name": "stdout",
     "output_type": "stream",
     "text": [
      "Total time taken: 0.68064284324646 seconds\n",
      "Total time taken: 0.00043010711669921875 seconds\n",
      "Average ROUGE scores:\n",
      "rouge1: 0.49138317625335387\n",
      "rouge2: 0.23691595277228433\n",
      "rougeL: 0.39797541931784813\n"
     ]
    }
   ],
   "source": [
    "from rouge_score import rouge_scorer\n",
    "\n",
    "start_time = time.time()\n",
    "\n",
    "scorer = rouge_scorer.RougeScorer(['rouge1', 'rouge2', 'rougeL'], use_stemmer=True)\n",
    "scores = [scorer.score(actual_summary, gen_summary) for actual_summary, gen_summary in zip(actual_summaries, generated_summaries)]\n",
    "end_time = time.time()\n",
    "total_time = end_time - start_time\n",
    "print(f\"Total time taken: {total_time} seconds\")\n",
    "\n",
    "start_time = time.time()\n",
    "\n",
    "# To calculate average scores\n",
    "average_scores = {}\n",
    "for key in scores[0].keys():\n",
    "    average_scores[key] = sum(score[key].fmeasure for score in scores) / len(scores)\n",
    "\n",
    "    \n",
    "end_time = time.time()\n",
    "total_time = end_time - start_time\n",
    "print(f\"Total time taken: {total_time} seconds\")    \n",
    "\n",
    "print(\"Average ROUGE scores:\")\n",
    "for key, value in average_scores.items():\n",
    "    print(f\"{key}: {value}\")\n"
   ]
  },
  {
   "cell_type": "code",
   "execution_count": 38,
   "id": "69298188-d00d-4c78-a9bf-45b6721bc67c",
   "metadata": {},
   "outputs": [],
   "source": [
    "import huggingface_hub"
   ]
  },
  {
   "cell_type": "code",
   "execution_count": 40,
   "id": "df3f5914-959f-4e62-b298-2d02ca8d2409",
   "metadata": {},
   "outputs": [
    {
     "data": {
      "text/plain": [
       "('./bart_base_full_finetune_model_tokenizer/tokenizer_config.json',\n",
       " './bart_base_full_finetune_model_tokenizer/special_tokens_map.json',\n",
       " './bart_base_full_finetune_model_tokenizer/vocab.json',\n",
       " './bart_base_full_finetune_model_tokenizer/merges.txt',\n",
       " './bart_base_full_finetune_model_tokenizer/added_tokens.json')"
      ]
     },
     "execution_count": 40,
     "metadata": {},
     "output_type": "execute_result"
    }
   ],
   "source": [
    "model_tok_save_directory = \"./bart_base_full_finetune_model_tokenizer\"\n",
    "SAVED_MODEL.save_pretrained(model_tok_save_directory)\n",
    "SAVED_MODEL_TOK.save_pretrained(model_tok_save_directory)\n"
   ]
  },
  {
   "cell_type": "code",
   "execution_count": null,
   "id": "11f37981-ece6-4d20-85ac-f071acb371a5",
   "metadata": {},
   "outputs": [],
   "source": [
    "from huggingface_hub import Repository\n",
    "\n",
    "repo = Repository(local_dir=model_tok_save_directory, clone_from=f\"hrs19/bart_base_SAMsum_full_finetune\")\n",
    "repo.git_add()\n",
    "repo.git_commit(\"First commit with custom model and tokenizer with additional tokens for emojis and <file_share>\")\n",
    "repo.git_push()\n"
   ]
  }
 ],
 "metadata": {
  "kernelspec": {
   "display_name": "Python 3",
   "language": "python",
   "name": "python3"
  },
  "language_info": {
   "codemirror_mode": {
    "name": "ipython",
    "version": 3
   },
   "file_extension": ".py",
   "mimetype": "text/x-python",
   "name": "python",
   "nbconvert_exporter": "python",
   "pygments_lexer": "ipython3",
   "version": "3.8.8"
  }
 },
 "nbformat": 4,
 "nbformat_minor": 5
}
